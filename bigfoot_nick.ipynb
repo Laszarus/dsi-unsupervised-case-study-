{
 "cells": [
  {
   "cell_type": "code",
   "execution_count": 3,
   "metadata": {},
   "outputs": [],
   "source": [
    "import json # to work with json file format\n",
    "from bs4 import BeautifulSoup # to parse html\n",
    "import pandas as pd"
   ]
  },
  {
   "cell_type": "code",
   "execution_count": 95,
   "metadata": {},
   "outputs": [],
   "source": [
    "df = pd.read_json('data/bigfoot_data.json', lines = True)"
   ]
  },
  {
   "cell_type": "code",
   "execution_count": 96,
   "metadata": {},
   "outputs": [
    {
     "data": {
      "text/html": [
       "<div>\n",
       "<style scoped>\n",
       "    .dataframe tbody tr th:only-of-type {\n",
       "        vertical-align: middle;\n",
       "    }\n",
       "\n",
       "    .dataframe tbody tr th {\n",
       "        vertical-align: top;\n",
       "    }\n",
       "\n",
       "    .dataframe thead th {\n",
       "        text-align: right;\n",
       "    }\n",
       "</style>\n",
       "<table border=\"1\" class=\"dataframe\">\n",
       "  <thead>\n",
       "    <tr style=\"text-align: right;\">\n",
       "      <th></th>\n",
       "      <th>_id</th>\n",
       "      <th>html</th>\n",
       "      <th>time</th>\n",
       "      <th>url</th>\n",
       "    </tr>\n",
       "  </thead>\n",
       "  <tbody>\n",
       "    <tr>\n",
       "      <th>0</th>\n",
       "      <td>{'$oid': '5939abbd2acdf6607095366c'}</td>\n",
       "      <td>\\r\\n&lt;!doctype html public \"-//w3c//dtd html 4....</td>\n",
       "      <td>Thu Jun  8 19:55:40 2017</td>\n",
       "      <td>show_report.asp?id=13038</td>\n",
       "    </tr>\n",
       "    <tr>\n",
       "      <th>1</th>\n",
       "      <td>{'$oid': '5939abbd2acdf6607095366d'}</td>\n",
       "      <td>\\r\\n&lt;!doctype html public \"-//w3c//dtd html 4....</td>\n",
       "      <td>Thu Jun  8 19:55:41 2017</td>\n",
       "      <td>show_report.asp?id=8792</td>\n",
       "    </tr>\n",
       "    <tr>\n",
       "      <th>2</th>\n",
       "      <td>{'$oid': '5939abbd2acdf6607095366e'}</td>\n",
       "      <td>\\r\\n&lt;!doctype html public \"-//w3c//dtd html 4....</td>\n",
       "      <td>Thu Jun  8 19:55:41 2017</td>\n",
       "      <td>show_report.asp?id=1255</td>\n",
       "    </tr>\n",
       "    <tr>\n",
       "      <th>3</th>\n",
       "      <td>{'$oid': '5939abbd2acdf6607095366f'}</td>\n",
       "      <td>\\r\\n&lt;!doctype html public \"-//w3c//dtd html 4....</td>\n",
       "      <td>Thu Jun  8 19:55:41 2017</td>\n",
       "      <td>show_report.asp?id=11616</td>\n",
       "    </tr>\n",
       "    <tr>\n",
       "      <th>4</th>\n",
       "      <td>{'$oid': '5939abbe2acdf66070953670'}</td>\n",
       "      <td>\\r\\n&lt;!doctype html public \"-//w3c//dtd html 4....</td>\n",
       "      <td>Thu Jun  8 19:55:42 2017</td>\n",
       "      <td>show_report.asp?id=637</td>\n",
       "    </tr>\n",
       "  </tbody>\n",
       "</table>\n",
       "</div>"
      ],
      "text/plain": [
       "                                    _id  \\\n",
       "0  {'$oid': '5939abbd2acdf6607095366c'}   \n",
       "1  {'$oid': '5939abbd2acdf6607095366d'}   \n",
       "2  {'$oid': '5939abbd2acdf6607095366e'}   \n",
       "3  {'$oid': '5939abbd2acdf6607095366f'}   \n",
       "4  {'$oid': '5939abbe2acdf66070953670'}   \n",
       "\n",
       "                                                html  \\\n",
       "0  \\r\\n<!doctype html public \"-//w3c//dtd html 4....   \n",
       "1  \\r\\n<!doctype html public \"-//w3c//dtd html 4....   \n",
       "2  \\r\\n<!doctype html public \"-//w3c//dtd html 4....   \n",
       "3  \\r\\n<!doctype html public \"-//w3c//dtd html 4....   \n",
       "4  \\r\\n<!doctype html public \"-//w3c//dtd html 4....   \n",
       "\n",
       "                       time                       url  \n",
       "0  Thu Jun  8 19:55:40 2017  show_report.asp?id=13038  \n",
       "1  Thu Jun  8 19:55:41 2017   show_report.asp?id=8792  \n",
       "2  Thu Jun  8 19:55:41 2017   show_report.asp?id=1255  \n",
       "3  Thu Jun  8 19:55:41 2017  show_report.asp?id=11616  \n",
       "4  Thu Jun  8 19:55:42 2017    show_report.asp?id=637  "
      ]
     },
     "execution_count": 96,
     "metadata": {},
     "output_type": "execute_result"
    }
   ],
   "source": [
    "df.head()"
   ]
  },
  {
   "cell_type": "code",
   "execution_count": 42,
   "metadata": {},
   "outputs": [
    {
     "ename": "AttributeError",
     "evalue": "'dict_values' object has no attribute 'values'",
     "output_type": "error",
     "traceback": [
      "\u001b[0;31m---------------------------------------------------------------------------\u001b[0m",
      "\u001b[0;31mAttributeError\u001b[0m                            Traceback (most recent call last)",
      "\u001b[0;32m<ipython-input-42-bbbd10c82323>\u001b[0m in \u001b[0;36m<module>\u001b[0;34m\u001b[0m\n\u001b[1;32m      1\u001b[0m \u001b[0mi\u001b[0m \u001b[0;34m=\u001b[0m \u001b[0;36m0\u001b[0m\u001b[0;34m\u001b[0m\u001b[0;34m\u001b[0m\u001b[0m\n\u001b[1;32m      2\u001b[0m \u001b[0;32mfor\u001b[0m \u001b[0mi\u001b[0m \u001b[0;32min\u001b[0m \u001b[0mrange\u001b[0m\u001b[0;34m(\u001b[0m\u001b[0mlen\u001b[0m\u001b[0;34m(\u001b[0m\u001b[0mdf\u001b[0m\u001b[0;34m.\u001b[0m\u001b[0m_id\u001b[0m\u001b[0;34m)\u001b[0m\u001b[0;34m)\u001b[0m\u001b[0;34m:\u001b[0m\u001b[0;34m\u001b[0m\u001b[0;34m\u001b[0m\u001b[0m\n\u001b[0;32m----> 3\u001b[0;31m     \u001b[0mdf\u001b[0m\u001b[0;34m[\u001b[0m\u001b[0;34m'_id'\u001b[0m\u001b[0;34m]\u001b[0m\u001b[0;34m[\u001b[0m\u001b[0mi\u001b[0m\u001b[0;34m]\u001b[0m \u001b[0;34m=\u001b[0m \u001b[0mdf\u001b[0m\u001b[0;34m.\u001b[0m\u001b[0m_id\u001b[0m\u001b[0;34m[\u001b[0m\u001b[0mi\u001b[0m\u001b[0;34m]\u001b[0m\u001b[0;34m.\u001b[0m\u001b[0mvalues\u001b[0m\u001b[0;34m(\u001b[0m\u001b[0;34m)\u001b[0m\u001b[0;34m\u001b[0m\u001b[0;34m\u001b[0m\u001b[0m\n\u001b[0m\u001b[1;32m      4\u001b[0m \u001b[0mdf\u001b[0m\u001b[0;34m.\u001b[0m\u001b[0mhead\u001b[0m\u001b[0;34m(\u001b[0m\u001b[0;34m)\u001b[0m\u001b[0;34m\u001b[0m\u001b[0;34m\u001b[0m\u001b[0m\n",
      "\u001b[0;31mAttributeError\u001b[0m: 'dict_values' object has no attribute 'values'"
     ]
    }
   ],
   "source": []
  },
  {
   "cell_type": "code",
   "execution_count": 92,
   "metadata": {},
   "outputs": [],
   "source": [
    "def clean_id_col():\n",
    "    # pull values(actual ids) from dictionaries\n",
    "    i = 0\n",
    "    for i in range(len(df._id)):\n",
    "        df['_id'][i] = df._id[i].values()\n",
    "    \n",
    "    # convert from dict_val to pandas series\n",
    "    id_series = pd.Series([], name='id')\n",
    "    for dict_val in df['_id']:\n",
    "        dict_val = list(dict_val)\n",
    "        dict_ser = pd.Series([dict_val])\n",
    "        id_series = pd.concat([id_series,dict_ser], axis=0)\n",
    "    id_series.reset_index(drop=True, inplace=True)\n",
    "    \n",
    "    # convert series of lists to series of strings\n",
    "    for i in range(len(id_series)):\n",
    "        id_series[i] = ', '.join(id_series[i])\n",
    "        \n",
    "    # drop old, messy id column\n",
    "    df['id'] = id_series\n",
    "    df.drop(['_id'], axis=1, inplace=True)"
   ]
  },
  {
   "cell_type": "code",
   "execution_count": 93,
   "metadata": {},
   "outputs": [
    {
     "data": {
      "text/html": [
       "<div>\n",
       "<style scoped>\n",
       "    .dataframe tbody tr th:only-of-type {\n",
       "        vertical-align: middle;\n",
       "    }\n",
       "\n",
       "    .dataframe tbody tr th {\n",
       "        vertical-align: top;\n",
       "    }\n",
       "\n",
       "    .dataframe thead th {\n",
       "        text-align: right;\n",
       "    }\n",
       "</style>\n",
       "<table border=\"1\" class=\"dataframe\">\n",
       "  <thead>\n",
       "    <tr style=\"text-align: right;\">\n",
       "      <th></th>\n",
       "      <th>html</th>\n",
       "      <th>time</th>\n",
       "      <th>url</th>\n",
       "      <th>id</th>\n",
       "    </tr>\n",
       "  </thead>\n",
       "  <tbody>\n",
       "    <tr>\n",
       "      <th>0</th>\n",
       "      <td>\\r\\n&lt;!doctype html public \"-//w3c//dtd html 4....</td>\n",
       "      <td>Thu Jun  8 19:55:40 2017</td>\n",
       "      <td>show_report.asp?id=13038</td>\n",
       "      <td>5939abbd2acdf6607095366c</td>\n",
       "    </tr>\n",
       "    <tr>\n",
       "      <th>1</th>\n",
       "      <td>\\r\\n&lt;!doctype html public \"-//w3c//dtd html 4....</td>\n",
       "      <td>Thu Jun  8 19:55:41 2017</td>\n",
       "      <td>show_report.asp?id=8792</td>\n",
       "      <td>5939abbd2acdf6607095366d</td>\n",
       "    </tr>\n",
       "    <tr>\n",
       "      <th>2</th>\n",
       "      <td>\\r\\n&lt;!doctype html public \"-//w3c//dtd html 4....</td>\n",
       "      <td>Thu Jun  8 19:55:41 2017</td>\n",
       "      <td>show_report.asp?id=1255</td>\n",
       "      <td>5939abbd2acdf6607095366e</td>\n",
       "    </tr>\n",
       "    <tr>\n",
       "      <th>3</th>\n",
       "      <td>\\r\\n&lt;!doctype html public \"-//w3c//dtd html 4....</td>\n",
       "      <td>Thu Jun  8 19:55:41 2017</td>\n",
       "      <td>show_report.asp?id=11616</td>\n",
       "      <td>5939abbd2acdf6607095366f</td>\n",
       "    </tr>\n",
       "    <tr>\n",
       "      <th>4</th>\n",
       "      <td>\\r\\n&lt;!doctype html public \"-//w3c//dtd html 4....</td>\n",
       "      <td>Thu Jun  8 19:55:42 2017</td>\n",
       "      <td>show_report.asp?id=637</td>\n",
       "      <td>5939abbe2acdf66070953670</td>\n",
       "    </tr>\n",
       "  </tbody>\n",
       "</table>\n",
       "</div>"
      ],
      "text/plain": [
       "                                                html  \\\n",
       "0  \\r\\n<!doctype html public \"-//w3c//dtd html 4....   \n",
       "1  \\r\\n<!doctype html public \"-//w3c//dtd html 4....   \n",
       "2  \\r\\n<!doctype html public \"-//w3c//dtd html 4....   \n",
       "3  \\r\\n<!doctype html public \"-//w3c//dtd html 4....   \n",
       "4  \\r\\n<!doctype html public \"-//w3c//dtd html 4....   \n",
       "\n",
       "                       time                       url  \\\n",
       "0  Thu Jun  8 19:55:40 2017  show_report.asp?id=13038   \n",
       "1  Thu Jun  8 19:55:41 2017   show_report.asp?id=8792   \n",
       "2  Thu Jun  8 19:55:41 2017   show_report.asp?id=1255   \n",
       "3  Thu Jun  8 19:55:41 2017  show_report.asp?id=11616   \n",
       "4  Thu Jun  8 19:55:42 2017    show_report.asp?id=637   \n",
       "\n",
       "                         id  \n",
       "0  5939abbd2acdf6607095366c  \n",
       "1  5939abbd2acdf6607095366d  \n",
       "2  5939abbd2acdf6607095366e  \n",
       "3  5939abbd2acdf6607095366f  \n",
       "4  5939abbe2acdf66070953670  "
      ]
     },
     "execution_count": 93,
     "metadata": {},
     "output_type": "execute_result"
    }
   ],
   "source": [
    "df.head()"
   ]
  },
  {
   "cell_type": "code",
   "execution_count": null,
   "metadata": {},
   "outputs": [],
   "source": []
  }
 ],
 "metadata": {
  "kernelspec": {
   "display_name": "Python 3",
   "language": "python",
   "name": "python3"
  },
  "language_info": {
   "codemirror_mode": {
    "name": "ipython",
    "version": 3
   },
   "file_extension": ".py",
   "mimetype": "text/x-python",
   "name": "python",
   "nbconvert_exporter": "python",
   "pygments_lexer": "ipython3",
   "version": "3.7.1"
  }
 },
 "nbformat": 4,
 "nbformat_minor": 2
}
