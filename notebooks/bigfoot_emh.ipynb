{
 "cells": [
  {
   "cell_type": "code",
   "execution_count": 1,
   "metadata": {},
   "outputs": [],
   "source": [
    "import numpy as np\n",
    "import pandas as pd\n",
    "import scipy.stats as stats\n",
    "import matplotlib.pyplot as plt\n",
    "import json # to work with json file format\n",
    "from bs4 import BeautifulSoup\n",
    "\n",
    "pd.options.display.float_format = '{:,.2f}'.format"
   ]
  },
  {
   "cell_type": "code",
   "execution_count": 2,
   "metadata": {},
   "outputs": [],
   "source": [
    "file = '../data/bigfoot_data.json'"
   ]
  },
  {
   "cell_type": "code",
   "execution_count": 3,
   "metadata": {},
   "outputs": [],
   "source": [
    "df = pd.read_json(file, lines = True)"
   ]
  },
  {
   "cell_type": "code",
   "execution_count": 4,
   "metadata": {},
   "outputs": [
    {
     "data": {
      "text/html": [
       "<div>\n",
       "<style scoped>\n",
       "    .dataframe tbody tr th:only-of-type {\n",
       "        vertical-align: middle;\n",
       "    }\n",
       "\n",
       "    .dataframe tbody tr th {\n",
       "        vertical-align: top;\n",
       "    }\n",
       "\n",
       "    .dataframe thead th {\n",
       "        text-align: right;\n",
       "    }\n",
       "</style>\n",
       "<table border=\"1\" class=\"dataframe\">\n",
       "  <thead>\n",
       "    <tr style=\"text-align: right;\">\n",
       "      <th></th>\n",
       "      <th>_id</th>\n",
       "      <th>html</th>\n",
       "      <th>time</th>\n",
       "      <th>url</th>\n",
       "    </tr>\n",
       "  </thead>\n",
       "  <tbody>\n",
       "    <tr>\n",
       "      <th>0</th>\n",
       "      <td>{'$oid': '5939abbd2acdf6607095366c'}</td>\n",
       "      <td>\\r\\n&lt;!doctype html public \"-//w3c//dtd html 4....</td>\n",
       "      <td>Thu Jun  8 19:55:40 2017</td>\n",
       "      <td>show_report.asp?id=13038</td>\n",
       "    </tr>\n",
       "    <tr>\n",
       "      <th>1</th>\n",
       "      <td>{'$oid': '5939abbd2acdf6607095366d'}</td>\n",
       "      <td>\\r\\n&lt;!doctype html public \"-//w3c//dtd html 4....</td>\n",
       "      <td>Thu Jun  8 19:55:41 2017</td>\n",
       "      <td>show_report.asp?id=8792</td>\n",
       "    </tr>\n",
       "    <tr>\n",
       "      <th>2</th>\n",
       "      <td>{'$oid': '5939abbd2acdf6607095366e'}</td>\n",
       "      <td>\\r\\n&lt;!doctype html public \"-//w3c//dtd html 4....</td>\n",
       "      <td>Thu Jun  8 19:55:41 2017</td>\n",
       "      <td>show_report.asp?id=1255</td>\n",
       "    </tr>\n",
       "    <tr>\n",
       "      <th>3</th>\n",
       "      <td>{'$oid': '5939abbd2acdf6607095366f'}</td>\n",
       "      <td>\\r\\n&lt;!doctype html public \"-//w3c//dtd html 4....</td>\n",
       "      <td>Thu Jun  8 19:55:41 2017</td>\n",
       "      <td>show_report.asp?id=11616</td>\n",
       "    </tr>\n",
       "    <tr>\n",
       "      <th>4</th>\n",
       "      <td>{'$oid': '5939abbe2acdf66070953670'}</td>\n",
       "      <td>\\r\\n&lt;!doctype html public \"-//w3c//dtd html 4....</td>\n",
       "      <td>Thu Jun  8 19:55:42 2017</td>\n",
       "      <td>show_report.asp?id=637</td>\n",
       "    </tr>\n",
       "  </tbody>\n",
       "</table>\n",
       "</div>"
      ],
      "text/plain": [
       "                                    _id  \\\n",
       "0  {'$oid': '5939abbd2acdf6607095366c'}   \n",
       "1  {'$oid': '5939abbd2acdf6607095366d'}   \n",
       "2  {'$oid': '5939abbd2acdf6607095366e'}   \n",
       "3  {'$oid': '5939abbd2acdf6607095366f'}   \n",
       "4  {'$oid': '5939abbe2acdf66070953670'}   \n",
       "\n",
       "                                                html  \\\n",
       "0  \\r\\n<!doctype html public \"-//w3c//dtd html 4....   \n",
       "1  \\r\\n<!doctype html public \"-//w3c//dtd html 4....   \n",
       "2  \\r\\n<!doctype html public \"-//w3c//dtd html 4....   \n",
       "3  \\r\\n<!doctype html public \"-//w3c//dtd html 4....   \n",
       "4  \\r\\n<!doctype html public \"-//w3c//dtd html 4....   \n",
       "\n",
       "                       time                       url  \n",
       "0  Thu Jun  8 19:55:40 2017  show_report.asp?id=13038  \n",
       "1  Thu Jun  8 19:55:41 2017   show_report.asp?id=8792  \n",
       "2  Thu Jun  8 19:55:41 2017   show_report.asp?id=1255  \n",
       "3  Thu Jun  8 19:55:41 2017  show_report.asp?id=11616  \n",
       "4  Thu Jun  8 19:55:42 2017    show_report.asp?id=637  "
      ]
     },
     "execution_count": 4,
     "metadata": {},
     "output_type": "execute_result"
    }
   ],
   "source": [
    "df.head()"
   ]
  },
  {
   "cell_type": "code",
   "execution_count": 5,
   "metadata": {},
   "outputs": [
    {
     "data": {
      "text/plain": [
       "(4857, 4)"
      ]
     },
     "execution_count": 5,
     "metadata": {},
     "output_type": "execute_result"
    }
   ],
   "source": [
    "df.shape"
   ]
  },
  {
   "cell_type": "code",
   "execution_count": 6,
   "metadata": {},
   "outputs": [
    {
     "name": "stdout",
     "output_type": "stream",
     "text": [
      "<class 'pandas.core.frame.DataFrame'>\n",
      "RangeIndex: 4857 entries, 0 to 4856\n",
      "Data columns (total 4 columns):\n",
      "_id     4857 non-null object\n",
      "html    4857 non-null object\n",
      "time    4857 non-null object\n",
      "url     4857 non-null object\n",
      "dtypes: object(4)\n",
      "memory usage: 151.9+ KB\n"
     ]
    }
   ],
   "source": [
    "df.info()"
   ]
  },
  {
   "cell_type": "code",
   "execution_count": null,
   "metadata": {},
   "outputs": [],
   "source": []
  },
  {
   "cell_type": "code",
   "execution_count": 7,
   "metadata": {},
   "outputs": [],
   "source": [
    "df['length_html_all'] = df['html'].str.len()"
   ]
  },
  {
   "cell_type": "code",
   "execution_count": 8,
   "metadata": {},
   "outputs": [
    {
     "data": {
      "text/plain": [
       "11171"
      ]
     },
     "execution_count": 8,
     "metadata": {},
     "output_type": "execute_result"
    }
   ],
   "source": [
    "df['length_html_all'].min()"
   ]
  },
  {
   "cell_type": "markdown",
   "metadata": {},
   "source": [
    "## No Duplicates in the HTML or URL columns!!\n"
   ]
  },
  {
   "cell_type": "code",
   "execution_count": 9,
   "metadata": {},
   "outputs": [
    {
     "data": {
      "text/html": [
       "<div>\n",
       "<style scoped>\n",
       "    .dataframe tbody tr th:only-of-type {\n",
       "        vertical-align: middle;\n",
       "    }\n",
       "\n",
       "    .dataframe tbody tr th {\n",
       "        vertical-align: top;\n",
       "    }\n",
       "\n",
       "    .dataframe thead th {\n",
       "        text-align: right;\n",
       "    }\n",
       "</style>\n",
       "<table border=\"1\" class=\"dataframe\">\n",
       "  <thead>\n",
       "    <tr style=\"text-align: right;\">\n",
       "      <th></th>\n",
       "      <th>_id</th>\n",
       "      <th>html</th>\n",
       "      <th>time</th>\n",
       "      <th>url</th>\n",
       "      <th>length_html_all</th>\n",
       "    </tr>\n",
       "  </thead>\n",
       "  <tbody>\n",
       "  </tbody>\n",
       "</table>\n",
       "</div>"
      ],
      "text/plain": [
       "Empty DataFrame\n",
       "Columns: [_id, html, time, url, length_html_all]\n",
       "Index: []"
      ]
     },
     "execution_count": 9,
     "metadata": {},
     "output_type": "execute_result"
    }
   ],
   "source": [
    "df[df.duplicated('html')]"
   ]
  },
  {
   "cell_type": "markdown",
   "metadata": {},
   "source": [
    "# Get info on tags"
   ]
  },
  {
   "cell_type": "code",
   "execution_count": 10,
   "metadata": {},
   "outputs": [],
   "source": [
    "test_vals = df['html'][0]"
   ]
  },
  {
   "cell_type": "code",
   "execution_count": 11,
   "metadata": {},
   "outputs": [],
   "source": [
    "soup = BeautifulSoup(test_vals, 'html.parser')"
   ]
  },
  {
   "cell_type": "code",
   "execution_count": 12,
   "metadata": {},
   "outputs": [
    {
     "data": {
      "text/plain": [
       "[<span class=\"field\">Submitted  by  witness   on Saturday, November 12, 2005.</span>,\n",
       " <span class=\"field\">Snowmobiler has encounter in deep snow near Potter, AK</span>,\n",
       " <span class=\"field\">YEAR:</span>,\n",
       " <span class=\"field\">SEASON:</span>,\n",
       " <span class=\"field\">MONTH:</span>,\n",
       " <span class=\"field\">STATE:</span>,\n",
       " <span class=\"field\">COUNTY:</span>,\n",
       " <span class=\"field\">LOCATION DETAILS:</span>,\n",
       " <span class=\"field\">NEAREST TOWN:</span>,\n",
       " <span class=\"field\">NEAREST ROAD:</span>,\n",
       " <span class=\"field\">OBSERVED:</span>,\n",
       " <span class=\"field\">ALSO NOTICED:</span>,\n",
       " <span class=\"field\">OTHER WITNESSES:</span>,\n",
       " <span class=\"field\">OTHER STORIES:</span>,\n",
       " <span class=\"field\">TIME AND CONDITIONS:</span>,\n",
       " <span class=\"field\">ENVIRONMENT:</span>]"
      ]
     },
     "execution_count": 12,
     "metadata": {},
     "output_type": "execute_result"
    }
   ],
   "source": [
    "soup.find_all('span', {'class': 'field'})"
   ]
  },
  {
   "cell_type": "code",
   "execution_count": 13,
   "metadata": {},
   "outputs": [],
   "source": [
    "spans = soup.find_all('span', {'class': 'field'})"
   ]
  },
  {
   "cell_type": "code",
   "execution_count": 14,
   "metadata": {},
   "outputs": [],
   "source": [
    "data = dict()"
   ]
  },
  {
   "cell_type": "code",
   "execution_count": 15,
   "metadata": {},
   "outputs": [],
   "source": [
    "data['submitted'] = spans[0].text\n",
    "data['title'] = spans[1].text"
   ]
  },
  {
   "cell_type": "code",
   "execution_count": 16,
   "metadata": {},
   "outputs": [
    {
     "data": {
      "text/plain": [
       "{'submitted': 'Submitted  by  witness   on Saturday,\\xa0November\\xa012,\\xa02005.',\n",
       " 'title': 'Snowmobiler has encounter in deep snow near Potter, AK'}"
      ]
     },
     "execution_count": 16,
     "metadata": {},
     "output_type": "execute_result"
    }
   ],
   "source": [
    "data"
   ]
  },
  {
   "cell_type": "code",
   "execution_count": 17,
   "metadata": {},
   "outputs": [
    {
     "name": "stdout",
     "output_type": "stream",
     "text": [
      "['YEAR', '2004']\n",
      "['SEASON', 'Winter']\n",
      "['MONTH', 'February']\n",
      "['STATE', 'Alaska']\n",
      "['COUNTY', 'Anchorage County']\n",
      "['LOCATION DETAILS', 'Up near powerline clearings east of Potter Marsh in Anchorage.']\n",
      "['NEAREST TOWN', 'Anchorage / Hillside']\n",
      "['NEAREST ROAD', 'No real roads in the area']\n",
      "['OBSERVED', 'I and two of my friends were bored one night so we decided to do a little snowmachining. Though it was illegal to snowmachine in Anchorage, there were some good trails to ride on a little north of my house.  We took off at probably 11 pm, rode up the road about a quarter mile, and cut off on the trails. It had snowed about 10 inches a few days before so there was fresh snow, with no tracks.  I was leading the way for about a half hour, then we stopped and talked for a little bit.  We took off again and kept cruising on some sort of game trail that led to an opening in the woods.  I rode off into the opening with my friends following about fifty yards behind me.  I came over this little mound and saw strange tracks leading to this spot in the snow where it looked like something had pushed aside some snow and layed down.  I figured it was just a moose or something.  But I followed the tracks over the next small hill and as I came down the far side my headlight pointed right on the back of a bigfoot.  It was only about 10 to 12 feet in front of me.  It was running in the opposite direction.  I slammed on the brakes because I was scared out of my mind.  It continued to run away, jumped over a dead log covered in snow and disappeared into a group of trees and into the darkness.  I was so surprised and scared I quickly turned around and rode back toward my friends. I met them back by the first mound and said \"We need to get out of here,\"  and rode back towards my house.  When I told them about it back near my house, they laughed and told me it was probably a bear or someone in the woods.  But I was 100% positive that is was not a bear or anything else. The way it was running through the deep snow made me sure that it wasn\\'t anything human.  For a long time I was made fun of and everyone told me I was crazy so I didn\\'t like talking about it.  ']\n",
      "['ALSO NOTICED', 'Some tracks in the snow, and a clearing in the fresh snow where it looked like a large animal had pushed snow aside and layed down.']\n",
      "['OTHER WITNESSES', 'My two friends were snowmachining behind me but did not see it. If it had been light outside they might have seen it, but it was pitch black outside. My only light was from my snowmachine.']\n",
      "['OTHER STORIES', 'I have not heard of any other incidents in Anchorage.']\n",
      "['TIME AND CONDITIONS', 'Middle of the night. The only light was the headlight from my snowmachine.']\n",
      "['ENVIRONMENT', 'In the middle of the woods, in a clearing covered in snow, with only small shrubs and bushes sticking out of the snow.  In the middle of the night.']\n"
     ]
    },
    {
     "data": {
      "text/plain": [
       "'for span in spans:\\n    print(span[\"class\"],span.text)'"
      ]
     },
     "execution_count": 17,
     "metadata": {},
     "output_type": "execute_result"
    }
   ],
   "source": [
    "\n",
    "for sentence in soup.find_all(\"p\"):\n",
    "    if any(span in sentence for span in spans):\n",
    "        text = sentence.text\n",
    "        #print (text)\n",
    "        #print('------\\n')\n",
    "        list_info = text.split(': ',1)\n",
    "        print(list_info)\n",
    "        data[list_info[0]] = list_info[1]\n",
    "        \n",
    "#if any(ext in url_string for ext in extensionsToCheck):\n",
    "\n",
    "'''for span in spans:\n",
    "    print(span[\"class\"],span.text)'''"
   ]
  },
  {
   "cell_type": "code",
   "execution_count": 18,
   "metadata": {},
   "outputs": [
    {
     "data": {
      "text/plain": [
       "{'submitted': 'Submitted  by  witness   on Saturday,\\xa0November\\xa012,\\xa02005.',\n",
       " 'title': 'Snowmobiler has encounter in deep snow near Potter, AK',\n",
       " 'YEAR': '2004',\n",
       " 'SEASON': 'Winter',\n",
       " 'MONTH': 'February',\n",
       " 'STATE': 'Alaska',\n",
       " 'COUNTY': 'Anchorage County',\n",
       " 'LOCATION DETAILS': 'Up near powerline clearings east of Potter Marsh in Anchorage.',\n",
       " 'NEAREST TOWN': 'Anchorage / Hillside',\n",
       " 'NEAREST ROAD': 'No real roads in the area',\n",
       " 'OBSERVED': 'I and two of my friends were bored one night so we decided to do a little snowmachining. Though it was illegal to snowmachine in Anchorage, there were some good trails to ride on a little north of my house.  We took off at probably 11 pm, rode up the road about a quarter mile, and cut off on the trails. It had snowed about 10 inches a few days before so there was fresh snow, with no tracks.  I was leading the way for about a half hour, then we stopped and talked for a little bit.  We took off again and kept cruising on some sort of game trail that led to an opening in the woods.  I rode off into the opening with my friends following about fifty yards behind me.  I came over this little mound and saw strange tracks leading to this spot in the snow where it looked like something had pushed aside some snow and layed down.  I figured it was just a moose or something.  But I followed the tracks over the next small hill and as I came down the far side my headlight pointed right on the back of a bigfoot.  It was only about 10 to 12 feet in front of me.  It was running in the opposite direction.  I slammed on the brakes because I was scared out of my mind.  It continued to run away, jumped over a dead log covered in snow and disappeared into a group of trees and into the darkness.  I was so surprised and scared I quickly turned around and rode back toward my friends. I met them back by the first mound and said \"We need to get out of here,\"  and rode back towards my house.  When I told them about it back near my house, they laughed and told me it was probably a bear or someone in the woods.  But I was 100% positive that is was not a bear or anything else. The way it was running through the deep snow made me sure that it wasn\\'t anything human.  For a long time I was made fun of and everyone told me I was crazy so I didn\\'t like talking about it.  ',\n",
       " 'ALSO NOTICED': 'Some tracks in the snow, and a clearing in the fresh snow where it looked like a large animal had pushed snow aside and layed down.',\n",
       " 'OTHER WITNESSES': 'My two friends were snowmachining behind me but did not see it. If it had been light outside they might have seen it, but it was pitch black outside. My only light was from my snowmachine.',\n",
       " 'OTHER STORIES': 'I have not heard of any other incidents in Anchorage.',\n",
       " 'TIME AND CONDITIONS': 'Middle of the night. The only light was the headlight from my snowmachine.',\n",
       " 'ENVIRONMENT': 'In the middle of the woods, in a clearing covered in snow, with only small shrubs and bushes sticking out of the snow.  In the middle of the night.'}"
      ]
     },
     "execution_count": 18,
     "metadata": {},
     "output_type": "execute_result"
    }
   ],
   "source": [
    "data"
   ]
  },
  {
   "cell_type": "code",
   "execution_count": 19,
   "metadata": {},
   "outputs": [
    {
     "data": {
      "text/plain": [
       "dict_keys(['submitted', 'title', 'YEAR', 'SEASON', 'MONTH', 'STATE', 'COUNTY', 'LOCATION DETAILS', 'NEAREST TOWN', 'NEAREST ROAD', 'OBSERVED', 'ALSO NOTICED', 'OTHER WITNESSES', 'OTHER STORIES', 'TIME AND CONDITIONS', 'ENVIRONMENT'])"
      ]
     },
     "execution_count": 19,
     "metadata": {},
     "output_type": "execute_result"
    }
   ],
   "source": [
    "data.keys()"
   ]
  },
  {
   "cell_type": "code",
   "execution_count": 20,
   "metadata": {},
   "outputs": [],
   "source": [
    "html_df = pd.DataFrame(columns = data.keys())"
   ]
  },
  {
   "cell_type": "code",
   "execution_count": 21,
   "metadata": {},
   "outputs": [],
   "source": [
    "cols = ['SUBMITTED', 'TITLE', 'YEAR', 'SEASON', 'MONTH',\n",
    "                                  'STATE', 'COUNTY', 'LOCATION DETAILS', 'NEAREST TOWN',\n",
    "                                  'NEAREST ROAD', 'OBSERVED', 'ALSO NOTICED',\n",
    "                                  'OTHER WITNESSES', 'OTHER STORIES', 'TIME AND CONDITIONS',\n",
    "                                  'ENVIRONMENT']\n",
    "\n",
    "html_df = pd.DataFrame(columns = cols)"
   ]
  },
  {
   "cell_type": "code",
   "execution_count": 22,
   "metadata": {},
   "outputs": [],
   "source": [
    "for doc in df.html:\n",
    "    doc_dict = dict()\n",
    "    souped_doc = BeautifulSoup(doc, 'html.parser')\n",
    "    spans = souped_doc.find_all('span', {'class': 'field'})\n",
    "    try:\n",
    "        doc_dict['SUBMITTED'] = spans[0].text\n",
    "        doc_dict['TITLE'] = spans[1].text\n",
    "    except:\n",
    "        continue\n",
    "    for sentence in souped_doc.find_all(\"p\"):\n",
    "        if any(span in sentence for span in spans):\n",
    "            text = sentence.text\n",
    "            #print (text)\n",
    "            #print('------\\n')\n",
    "            list_info = text.split(': ',1)\n",
    "            #print(list_info)\n",
    "            doc_dict[list_info[0]] = list_info[1]\n",
    "    html_df = html_df.append({k:doc_dict[k] for k in cols if k in doc_dict}, ignore_index=True)\n",
    "newcols = []\n",
    "for col in html_df.columns:\n",
    "    newcols.append(col.lower())\n",
    "html_df.columns = newcols"
   ]
  },
  {
   "cell_type": "code",
   "execution_count": 111,
   "metadata": {},
   "outputs": [
    {
     "data": {
      "text/html": [
       "<div>\n",
       "<style scoped>\n",
       "    .dataframe tbody tr th:only-of-type {\n",
       "        vertical-align: middle;\n",
       "    }\n",
       "\n",
       "    .dataframe tbody tr th {\n",
       "        vertical-align: top;\n",
       "    }\n",
       "\n",
       "    .dataframe thead th {\n",
       "        text-align: right;\n",
       "    }\n",
       "</style>\n",
       "<table border=\"1\" class=\"dataframe\">\n",
       "  <thead>\n",
       "    <tr style=\"text-align: right;\">\n",
       "      <th></th>\n",
       "      <th>submitted</th>\n",
       "      <th>title</th>\n",
       "      <th>year</th>\n",
       "      <th>season</th>\n",
       "      <th>month</th>\n",
       "      <th>state</th>\n",
       "      <th>county</th>\n",
       "      <th>location details</th>\n",
       "      <th>nearest town</th>\n",
       "      <th>nearest road</th>\n",
       "      <th>observed</th>\n",
       "      <th>also noticed</th>\n",
       "      <th>other witnesses</th>\n",
       "      <th>other stories</th>\n",
       "      <th>time and conditions</th>\n",
       "      <th>environment</th>\n",
       "    </tr>\n",
       "  </thead>\n",
       "  <tbody>\n",
       "    <tr>\n",
       "      <th>0</th>\n",
       "      <td>Submitted  by  witness   on Saturday, November...</td>\n",
       "      <td>Snowmobiler has encounter in deep snow near Po...</td>\n",
       "      <td>2004</td>\n",
       "      <td>Winter</td>\n",
       "      <td>February</td>\n",
       "      <td>Alaska</td>\n",
       "      <td>Anchorage County</td>\n",
       "      <td>Up near powerline clearings east of Potter Mar...</td>\n",
       "      <td>Anchorage / Hillside</td>\n",
       "      <td>No real roads in the area</td>\n",
       "      <td>I and two of my friends were bored one night s...</td>\n",
       "      <td>Some tracks in the snow, and a clearing in the...</td>\n",
       "      <td>My two friends were snowmachining behind me bu...</td>\n",
       "      <td>I have not heard of any other incidents in Anc...</td>\n",
       "      <td>Middle of the night. The only light was the he...</td>\n",
       "      <td>In the middle of the woods, in a clearing cove...</td>\n",
       "    </tr>\n",
       "    <tr>\n",
       "      <th>1</th>\n",
       "      <td>Submitted  by  witness   on Thursday, June 3, ...</td>\n",
       "      <td>Four nocturnal hikers get pelted with snow nea...</td>\n",
       "      <td>2003</td>\n",
       "      <td>Winter</td>\n",
       "      <td>December</td>\n",
       "      <td>Alaska</td>\n",
       "      <td>Anchorage County</td>\n",
       "      <td>Few houses on the way, a power relay station. ...</td>\n",
       "      <td>Anchorage</td>\n",
       "      <td>Dowling</td>\n",
       "      <td>Me and a couple of friends had been bored, whe...</td>\n",
       "      <td>We smelled of colonge and after shave, and one...</td>\n",
       "      <td>4. Me, w-man, warren and sean. We were at my h...</td>\n",
       "      <td>no</td>\n",
       "      <td>Started at 11, ended at about 3-3:30. Weather ...</td>\n",
       "      <td>A pine forest, with a bog or swamp on the righ...</td>\n",
       "    </tr>\n",
       "    <tr>\n",
       "      <th>2</th>\n",
       "      <td>Submitted  by  witness A. M. on Tuesday, Octob...</td>\n",
       "      <td>Creature observed walking back and forth by wi...</td>\n",
       "      <td>1998</td>\n",
       "      <td>Fall</td>\n",
       "      <td>September</td>\n",
       "      <td>Alaska</td>\n",
       "      <td>Bethel County</td>\n",
       "      <td>45 miles by air west of Lake Iliamna, Alaska i...</td>\n",
       "      <td>NaN</td>\n",
       "      <td>NaN</td>\n",
       "      <td>My hunting buddy and I were sitting on a ridge...</td>\n",
       "      <td>nothing unusual</td>\n",
       "      <td>Scouting for caribou with high quality binocul...</td>\n",
       "      <td>NaN</td>\n",
       "      <td>NaN</td>\n",
       "      <td>Call Iliamna Air taxi for lat &amp; Long of Long L...</td>\n",
       "    </tr>\n",
       "    <tr>\n",
       "      <th>3</th>\n",
       "      <td>Submitted  by  witness   on Friday, May 6, 2005.</td>\n",
       "      <td>Fishermen find footprints east of Egegik</td>\n",
       "      <td>2004</td>\n",
       "      <td>Summer</td>\n",
       "      <td>July</td>\n",
       "      <td>Alaska</td>\n",
       "      <td>Bristol Bay County</td>\n",
       "      <td>Approximately 95 miles east of Egegik, Alaska....</td>\n",
       "      <td>Egegik</td>\n",
       "      <td>NaN</td>\n",
       "      <td>To whom it may concern, I am a commercial fish...</td>\n",
       "      <td>Just these foot prints and how obvious it was ...</td>\n",
       "      <td>One other witness, and he was fishing prior to...</td>\n",
       "      <td>I've only heard of one other story, from an ol...</td>\n",
       "      <td>Approximately 12:30 pm, partially coudy/sunny.</td>\n",
       "      <td>Lake front,creek spit, gravel and sand, alder ...</td>\n",
       "    </tr>\n",
       "    <tr>\n",
       "      <th>4</th>\n",
       "      <td>Submitted  by  witness   on Monday, November 1...</td>\n",
       "      <td>Campers' encounter just after dark in the Wran...</td>\n",
       "      <td>2000</td>\n",
       "      <td>Summer</td>\n",
       "      <td>June</td>\n",
       "      <td>Alaska</td>\n",
       "      <td>Cordova-McCarthy County</td>\n",
       "      <td>On the main trail toward the glacier, before t...</td>\n",
       "      <td>Kennikot, Alaska</td>\n",
       "      <td>not sure</td>\n",
       "      <td>My hiking partner and I arrived late to the Ke...</td>\n",
       "      <td>I did hear what appeared to be grunting in the...</td>\n",
       "      <td>I was the only witness, there was one other in...</td>\n",
       "      <td>None</td>\n",
       "      <td>About 12:00 Midnight / full moon / clear / dim...</td>\n",
       "      <td>This sighting was located at approximately 1 t...</td>\n",
       "    </tr>\n",
       "  </tbody>\n",
       "</table>\n",
       "</div>"
      ],
      "text/plain": [
       "                                           submitted  \\\n",
       "0  Submitted  by  witness   on Saturday, November...   \n",
       "1  Submitted  by  witness   on Thursday, June 3, ...   \n",
       "2  Submitted  by  witness A. M. on Tuesday, Octob...   \n",
       "3   Submitted  by  witness   on Friday, May 6, 2005.   \n",
       "4  Submitted  by  witness   on Monday, November 1...   \n",
       "\n",
       "                                               title  year  season      month  \\\n",
       "0  Snowmobiler has encounter in deep snow near Po...  2004  Winter   February   \n",
       "1  Four nocturnal hikers get pelted with snow nea...  2003  Winter   December   \n",
       "2  Creature observed walking back and forth by wi...  1998    Fall  September   \n",
       "3           Fishermen find footprints east of Egegik  2004  Summer       July   \n",
       "4  Campers' encounter just after dark in the Wran...  2000  Summer       June   \n",
       "\n",
       "    state                   county  \\\n",
       "0  Alaska         Anchorage County   \n",
       "1  Alaska         Anchorage County   \n",
       "2  Alaska            Bethel County   \n",
       "3  Alaska       Bristol Bay County   \n",
       "4  Alaska  Cordova-McCarthy County   \n",
       "\n",
       "                                    location details          nearest town  \\\n",
       "0  Up near powerline clearings east of Potter Mar...  Anchorage / Hillside   \n",
       "1  Few houses on the way, a power relay station. ...             Anchorage   \n",
       "2  45 miles by air west of Lake Iliamna, Alaska i...                   NaN   \n",
       "3  Approximately 95 miles east of Egegik, Alaska....               Egegik    \n",
       "4  On the main trail toward the glacier, before t...      Kennikot, Alaska   \n",
       "\n",
       "                nearest road  \\\n",
       "0  No real roads in the area   \n",
       "1                    Dowling   \n",
       "2                        NaN   \n",
       "3                        NaN   \n",
       "4                  not sure    \n",
       "\n",
       "                                            observed  \\\n",
       "0  I and two of my friends were bored one night s...   \n",
       "1  Me and a couple of friends had been bored, whe...   \n",
       "2  My hunting buddy and I were sitting on a ridge...   \n",
       "3  To whom it may concern, I am a commercial fish...   \n",
       "4  My hiking partner and I arrived late to the Ke...   \n",
       "\n",
       "                                        also noticed  \\\n",
       "0  Some tracks in the snow, and a clearing in the...   \n",
       "1  We smelled of colonge and after shave, and one...   \n",
       "2                                   nothing unusual    \n",
       "3  Just these foot prints and how obvious it was ...   \n",
       "4  I did hear what appeared to be grunting in the...   \n",
       "\n",
       "                                     other witnesses  \\\n",
       "0  My two friends were snowmachining behind me bu...   \n",
       "1  4. Me, w-man, warren and sean. We were at my h...   \n",
       "2  Scouting for caribou with high quality binocul...   \n",
       "3  One other witness, and he was fishing prior to...   \n",
       "4  I was the only witness, there was one other in...   \n",
       "\n",
       "                                       other stories  \\\n",
       "0  I have not heard of any other incidents in Anc...   \n",
       "1                                                 no   \n",
       "2                                                NaN   \n",
       "3  I've only heard of one other story, from an ol...   \n",
       "4                                               None   \n",
       "\n",
       "                                 time and conditions  \\\n",
       "0  Middle of the night. The only light was the he...   \n",
       "1  Started at 11, ended at about 3-3:30. Weather ...   \n",
       "2                                                NaN   \n",
       "3     Approximately 12:30 pm, partially coudy/sunny.   \n",
       "4  About 12:00 Midnight / full moon / clear / dim...   \n",
       "\n",
       "                                         environment  \n",
       "0  In the middle of the woods, in a clearing cove...  \n",
       "1  A pine forest, with a bog or swamp on the righ...  \n",
       "2  Call Iliamna Air taxi for lat & Long of Long L...  \n",
       "3  Lake front,creek spit, gravel and sand, alder ...  \n",
       "4  This sighting was located at approximately 1 t...  "
      ]
     },
     "execution_count": 111,
     "metadata": {},
     "output_type": "execute_result"
    }
   ],
   "source": [
    "html_df.head()"
   ]
  },
  {
   "cell_type": "code",
   "execution_count": 35,
   "metadata": {},
   "outputs": [],
   "source": [
    "html_df['month'] = html_df['month'].fillna('Unknown')"
   ]
  },
  {
   "cell_type": "code",
   "execution_count": 40,
   "metadata": {},
   "outputs": [],
   "source": [
    "import seaborn as sns\n",
    "import matplotlib.pyplot as plt\n",
    "from matplotlib import pyplot"
   ]
  },
  {
   "cell_type": "code",
   "execution_count": 65,
   "metadata": {},
   "outputs": [
    {
     "data": {
      "text/html": [
       "<div>\n",
       "<style scoped>\n",
       "    .dataframe tbody tr th:only-of-type {\n",
       "        vertical-align: middle;\n",
       "    }\n",
       "\n",
       "    .dataframe tbody tr th {\n",
       "        vertical-align: top;\n",
       "    }\n",
       "\n",
       "    .dataframe thead th {\n",
       "        text-align: right;\n",
       "    }\n",
       "</style>\n",
       "<table border=\"1\" class=\"dataframe\">\n",
       "  <thead>\n",
       "    <tr style=\"text-align: right;\">\n",
       "      <th></th>\n",
       "      <th>submitted</th>\n",
       "      <th>year</th>\n",
       "      <th>season</th>\n",
       "      <th>month</th>\n",
       "      <th>state</th>\n",
       "      <th>county</th>\n",
       "    </tr>\n",
       "  </thead>\n",
       "  <tbody>\n",
       "    <tr>\n",
       "      <th>673</th>\n",
       "      <td>Submitted  on Saturday, April 28, 2001.</td>\n",
       "      <td>1963</td>\n",
       "      <td>Winter</td>\n",
       "      <td>January</td>\n",
       "      <td>California</td>\n",
       "      <td>Tuolumne County</td>\n",
       "    </tr>\n",
       "    <tr>\n",
       "      <th>4051</th>\n",
       "      <td>Submitted  by  witness S.H. on Tuesday, Decemb...</td>\n",
       "      <td>1969</td>\n",
       "      <td>Fall</td>\n",
       "      <td>November</td>\n",
       "      <td>Washington</td>\n",
       "      <td>Lewis County</td>\n",
       "    </tr>\n",
       "    <tr>\n",
       "      <th>4792</th>\n",
       "      <td>Submitted  by  witness   on Tuesday, January 3...</td>\n",
       "      <td>2004</td>\n",
       "      <td>Fall</td>\n",
       "      <td>September</td>\n",
       "      <td>NaN</td>\n",
       "      <td>NaN</td>\n",
       "    </tr>\n",
       "  </tbody>\n",
       "</table>\n",
       "</div>"
      ],
      "text/plain": [
       "                                              submitted  year  season  \\\n",
       "673             Submitted  on Saturday, April 28, 2001.  1963  Winter   \n",
       "4051  Submitted  by  witness S.H. on Tuesday, Decemb...  1969    Fall   \n",
       "4792  Submitted  by  witness   on Tuesday, January 3...  2004    Fall   \n",
       "\n",
       "          month       state           county  \n",
       "673     January  California  Tuolumne County  \n",
       "4051   November  Washington     Lewis County  \n",
       "4792  September         NaN              NaN  "
      ]
     },
     "execution_count": 65,
     "metadata": {},
     "output_type": "execute_result"
    }
   ],
   "source": [
    "eda_df = html_df[['submitted', 'year', 'season', 'month', 'state', 'county']]\n",
    "eda_df[eda_df.duplicated()]"
   ]
  },
  {
   "cell_type": "code",
   "execution_count": 48,
   "metadata": {},
   "outputs": [
    {
     "data": {
      "image/png": "[encoded data removed]",
      "text/plain": [
       "<Figure size 1584x576 with 1 Axes>"
      ]
     },
     "metadata": {
      "needs_background": "light"
     },
     "output_type": "display_data"
    }
   ],
   "source": [
    "month_order=['January', 'February', 'March', 'April', 'May', 'June', 'July','August','September', 'October',\n",
    "       'November', 'December', 'Unknown']\n",
    "\n",
    "fig, ax = pyplot.subplots(figsize=(22, 8))\n",
    "\n",
    "sns.countplot(ax=ax, x=\"month\",order=month_order,  data=eda_df, hue='season', dodge=False)\n",
    "fig.savefig(\"../images/count_by_month.png\")"
   ]
  },
  {
   "cell_type": "code",
   "execution_count": 46,
   "metadata": {},
   "outputs": [
    {
     "data": {
      "text/plain": [
       "array(['Winter', 'Fall', 'Summer', 'Spring', 'Unknown'], dtype=object)"
      ]
     },
     "execution_count": 46,
     "metadata": {},
     "output_type": "execute_result"
    }
   ],
   "source": [
    "eda_df['season'].unique()"
   ]
  },
  {
   "cell_type": "code",
   "execution_count": 66,
   "metadata": {},
   "outputs": [
    {
     "name": "stderr",
     "output_type": "stream",
     "text": [
      "/home/emily/anaconda3/lib/python3.7/site-packages/ipykernel_launcher.py:1: SettingWithCopyWarning: \n",
      "A value is trying to be set on a copy of a slice from a DataFrame.\n",
      "Try using .loc[row_indexer,col_indexer] = value instead\n",
      "\n",
      "See the caveats in the documentation: http://pandas.pydata.org/pandas-docs/stable/indexing.html#indexing-view-versus-copy\n",
      "  \"\"\"Entry point for launching an IPython kernel.\n"
     ]
    }
   ],
   "source": [
    "eda_df['year'] = pd.to_numeric(eda_df['year'], errors='coerce')"
   ]
  },
  {
   "cell_type": "code",
   "execution_count": 67,
   "metadata": {},
   "outputs": [
    {
     "name": "stderr",
     "output_type": "stream",
     "text": [
      "/home/emily/anaconda3/lib/python3.7/site-packages/ipykernel_launcher.py:1: SettingWithCopyWarning: \n",
      "A value is trying to be set on a copy of a slice from a DataFrame.\n",
      "Try using .loc[row_indexer,col_indexer] = value instead\n",
      "\n",
      "See the caveats in the documentation: http://pandas.pydata.org/pandas-docs/stable/indexing.html#indexing-view-versus-copy\n",
      "  \"\"\"Entry point for launching an IPython kernel.\n"
     ]
    }
   ],
   "source": [
    "eda_df['year'] = eda_df['year'].fillna(0)"
   ]
  },
  {
   "cell_type": "code",
   "execution_count": 68,
   "metadata": {},
   "outputs": [
    {
     "name": "stderr",
     "output_type": "stream",
     "text": [
      "/home/emily/anaconda3/lib/python3.7/site-packages/ipykernel_launcher.py:1: SettingWithCopyWarning: \n",
      "A value is trying to be set on a copy of a slice from a DataFrame.\n",
      "Try using .loc[row_indexer,col_indexer] = value instead\n",
      "\n",
      "See the caveats in the documentation: http://pandas.pydata.org/pandas-docs/stable/indexing.html#indexing-view-versus-copy\n",
      "  \"\"\"Entry point for launching an IPython kernel.\n"
     ]
    }
   ],
   "source": [
    "eda_df[eda_df['year']<1800]=0"
   ]
  },
  {
   "cell_type": "code",
   "execution_count": 97,
   "metadata": {},
   "outputs": [
    {
     "data": {
      "image/png": "[encoded data removed]",
      "text/plain": [
       "<Figure size 2160x864 with 1 Axes>"
      ]
     },
     "metadata": {
      "needs_background": "light"
     },
     "output_type": "display_data"
    },
    {
     "data": {
      "image/png": "[encoded data removed]",
      "text/plain": [
       "<Figure size 360x360 with 1 Axes>"
      ]
     },
     "metadata": {
      "needs_background": "light"
     },
     "output_type": "display_data"
    }
   ],
   "source": [
    "eda_df_year_group = pd.DataFrame(eda_df.groupby('year').count()['submitted']).reset_index()\n",
    "#print(eda_df_year_group)\n",
    "\n",
    "\n",
    "fig, ax = pyplot.subplots(figsize=(30, 12))\n",
    "\n",
    "sns.relplot(ax = ax, x=\"year\", y=\"submitted\", kind=\"line\",  data=eda_df_year_group[eda_df_year_group['year']!=0])\n",
    "fig.savefig(\"../images/bigfoot_year.png\")"
   ]
  },
  {
   "cell_type": "code",
   "execution_count": 95,
   "metadata": {},
   "outputs": [
    {
     "data": {
      "text/plain": [
       "array([2004., 2003., 1998., 2000., 2009., 1997.,    0., 1964., 1992.,\n",
       "       2001., 1995., 2008., 1985., 1979., 1980., 1987., 1975., 2014.,\n",
       "       2013., 2015., 2002., 1996., 1994., 2005., 1978., 2011., 1983.,\n",
       "       2012., 2007., 1953., 1988., 2006., 1993., 1949., 1958., 1986.,\n",
       "       1999., 1967., 2010., 1990., 1972., 1981., 1984., 1961., 1969.,\n",
       "       1920., 1943., 1970., 2016., 2017., 1977., 1989., 1982., 1991.,\n",
       "       1973., 1968., 1965., 1963., 1976., 1974., 1966., 1956., 1950.,\n",
       "       1944., 1962., 1870., 1955., 1971., 1959., 1940., 1926., 1957.,\n",
       "       1945., 1937., 1960., 1925., 1910., 1932., 1954., 1942., 1921.,\n",
       "       1905., 1938., 1930., 1948., 1941., 1890., 1811., 1934., 1924.])"
      ]
     },
     "execution_count": 95,
     "metadata": {},
     "output_type": "execute_result"
    }
   ],
   "source": [
    "eda_df['year'].unique()"
   ]
  },
  {
   "cell_type": "code",
   "execution_count": 108,
   "metadata": {},
   "outputs": [
    {
     "data": {
      "text/plain": [
       "<seaborn.axisgrid.FacetGrid at 0x7ff39e4a55f8>"
      ]
     },
     "execution_count": 108,
     "metadata": {},
     "output_type": "execute_result"
    },
    {
     "data": {
      "image/png": "[encoded data removed]",
      "text/plain": [
       "<Figure size 2160x864 with 1 Axes>"
      ]
     },
     "metadata": {
      "needs_background": "light"
     },
     "output_type": "display_data"
    },
    {
     "data": {
      "image/png": "[encoded data removed]",
      "text/plain": [
       "<Figure size 455.5x360 with 1 Axes>"
      ]
     },
     "metadata": {
      "needs_background": "light"
     },
     "output_type": "display_data"
    }
   ],
   "source": [
    "eda_df_year_group_state = pd.DataFrame(eda_df.groupby(['year', 'state']).count()['submitted']).reset_index()\n",
    "#print(eda_df_year_group)\n",
    "\n",
    "\n",
    "fig, ax = pyplot.subplots(figsize=(30, 12))\n",
    "\n",
    "sns.relplot(ax = ax, x=\"year\", y=\"submitted\", kind=\"line\", hue='state',  data=eda_df_year_group_state[(eda_df_year_group_state['year']>1990) & (eda_df_year_group_state['submitted']>10)])\n",
    "#fig.savefig(\"../images/bigfoot_year.png\")"
   ]
  },
  {
   "cell_type": "code",
   "execution_count": 103,
   "metadata": {},
   "outputs": [],
   "source": [
    "eda_df_group_state = pd.DataFrame(eda_df.groupby(['state']).count()['submitted']).reset_index()"
   ]
  },
  {
   "cell_type": "code",
   "execution_count": 104,
   "metadata": {},
   "outputs": [
    {
     "data": {
      "text/html": [
       "<div>\n",
       "<style scoped>\n",
       "    .dataframe tbody tr th:only-of-type {\n",
       "        vertical-align: middle;\n",
       "    }\n",
       "\n",
       "    .dataframe tbody tr th {\n",
       "        vertical-align: top;\n",
       "    }\n",
       "\n",
       "    .dataframe thead th {\n",
       "        text-align: right;\n",
       "    }\n",
       "</style>\n",
       "<table border=\"1\" class=\"dataframe\">\n",
       "  <thead>\n",
       "    <tr style=\"text-align: right;\">\n",
       "      <th></th>\n",
       "      <th>state</th>\n",
       "      <th>submitted</th>\n",
       "    </tr>\n",
       "  </thead>\n",
       "  <tbody>\n",
       "    <tr>\n",
       "      <th>0</th>\n",
       "      <td>0</td>\n",
       "      <td>377</td>\n",
       "    </tr>\n",
       "    <tr>\n",
       "      <th>1</th>\n",
       "      <td>Alabama</td>\n",
       "      <td>87</td>\n",
       "    </tr>\n",
       "    <tr>\n",
       "      <th>2</th>\n",
       "      <td>Alaska</td>\n",
       "      <td>17</td>\n",
       "    </tr>\n",
       "    <tr>\n",
       "      <th>3</th>\n",
       "      <td>Arizona</td>\n",
       "      <td>75</td>\n",
       "    </tr>\n",
       "    <tr>\n",
       "      <th>4</th>\n",
       "      <td>Arkansas</td>\n",
       "      <td>83</td>\n",
       "    </tr>\n",
       "    <tr>\n",
       "      <th>5</th>\n",
       "      <td>California</td>\n",
       "      <td>373</td>\n",
       "    </tr>\n",
       "    <tr>\n",
       "      <th>6</th>\n",
       "      <td>Colorado</td>\n",
       "      <td>113</td>\n",
       "    </tr>\n",
       "    <tr>\n",
       "      <th>7</th>\n",
       "      <td>Connecticut</td>\n",
       "      <td>11</td>\n",
       "    </tr>\n",
       "    <tr>\n",
       "      <th>8</th>\n",
       "      <td>Delaware</td>\n",
       "      <td>4</td>\n",
       "    </tr>\n",
       "    <tr>\n",
       "      <th>9</th>\n",
       "      <td>Florida</td>\n",
       "      <td>248</td>\n",
       "    </tr>\n",
       "    <tr>\n",
       "      <th>10</th>\n",
       "      <td>Georgia</td>\n",
       "      <td>108</td>\n",
       "    </tr>\n",
       "    <tr>\n",
       "      <th>11</th>\n",
       "      <td>Idaho</td>\n",
       "      <td>63</td>\n",
       "    </tr>\n",
       "    <tr>\n",
       "      <th>12</th>\n",
       "      <td>Illinois</td>\n",
       "      <td>207</td>\n",
       "    </tr>\n",
       "    <tr>\n",
       "      <th>13</th>\n",
       "      <td>Indiana</td>\n",
       "      <td>71</td>\n",
       "    </tr>\n",
       "    <tr>\n",
       "      <th>14</th>\n",
       "      <td>Iowa</td>\n",
       "      <td>49</td>\n",
       "    </tr>\n",
       "    <tr>\n",
       "      <th>15</th>\n",
       "      <td>Kansas</td>\n",
       "      <td>39</td>\n",
       "    </tr>\n",
       "    <tr>\n",
       "      <th>16</th>\n",
       "      <td>Kentucky</td>\n",
       "      <td>95</td>\n",
       "    </tr>\n",
       "    <tr>\n",
       "      <th>17</th>\n",
       "      <td>Louisiana</td>\n",
       "      <td>30</td>\n",
       "    </tr>\n",
       "    <tr>\n",
       "      <th>18</th>\n",
       "      <td>Maine</td>\n",
       "      <td>7</td>\n",
       "    </tr>\n",
       "    <tr>\n",
       "      <th>19</th>\n",
       "      <td>Maryland</td>\n",
       "      <td>28</td>\n",
       "    </tr>\n",
       "    <tr>\n",
       "      <th>20</th>\n",
       "      <td>Massachusetts</td>\n",
       "      <td>24</td>\n",
       "    </tr>\n",
       "    <tr>\n",
       "      <th>21</th>\n",
       "      <td>Michigan</td>\n",
       "      <td>179</td>\n",
       "    </tr>\n",
       "    <tr>\n",
       "      <th>22</th>\n",
       "      <td>Minnesota</td>\n",
       "      <td>63</td>\n",
       "    </tr>\n",
       "    <tr>\n",
       "      <th>23</th>\n",
       "      <td>Mississippi</td>\n",
       "      <td>20</td>\n",
       "    </tr>\n",
       "    <tr>\n",
       "      <th>24</th>\n",
       "      <td>Missouri</td>\n",
       "      <td>124</td>\n",
       "    </tr>\n",
       "    <tr>\n",
       "      <th>25</th>\n",
       "      <td>Montana</td>\n",
       "      <td>40</td>\n",
       "    </tr>\n",
       "    <tr>\n",
       "      <th>26</th>\n",
       "      <td>Nebraska</td>\n",
       "      <td>14</td>\n",
       "    </tr>\n",
       "    <tr>\n",
       "      <th>27</th>\n",
       "      <td>Nevada</td>\n",
       "      <td>7</td>\n",
       "    </tr>\n",
       "    <tr>\n",
       "      <th>28</th>\n",
       "      <td>New Hampshire</td>\n",
       "      <td>9</td>\n",
       "    </tr>\n",
       "    <tr>\n",
       "      <th>29</th>\n",
       "      <td>New Jersey</td>\n",
       "      <td>57</td>\n",
       "    </tr>\n",
       "    <tr>\n",
       "      <th>30</th>\n",
       "      <td>New Mexico</td>\n",
       "      <td>40</td>\n",
       "    </tr>\n",
       "    <tr>\n",
       "      <th>31</th>\n",
       "      <td>New York</td>\n",
       "      <td>83</td>\n",
       "    </tr>\n",
       "    <tr>\n",
       "      <th>32</th>\n",
       "      <td>North Carolina</td>\n",
       "      <td>73</td>\n",
       "    </tr>\n",
       "    <tr>\n",
       "      <th>33</th>\n",
       "      <td>North Dakota</td>\n",
       "      <td>4</td>\n",
       "    </tr>\n",
       "    <tr>\n",
       "      <th>34</th>\n",
       "      <td>Ohio</td>\n",
       "      <td>228</td>\n",
       "    </tr>\n",
       "    <tr>\n",
       "      <th>35</th>\n",
       "      <td>Oklahoma</td>\n",
       "      <td>79</td>\n",
       "    </tr>\n",
       "    <tr>\n",
       "      <th>36</th>\n",
       "      <td>Oregon</td>\n",
       "      <td>216</td>\n",
       "    </tr>\n",
       "    <tr>\n",
       "      <th>37</th>\n",
       "      <td>Pennsylvania</td>\n",
       "      <td>88</td>\n",
       "    </tr>\n",
       "    <tr>\n",
       "      <th>38</th>\n",
       "      <td>Rhode Island</td>\n",
       "      <td>5</td>\n",
       "    </tr>\n",
       "    <tr>\n",
       "      <th>39</th>\n",
       "      <td>South Carolina</td>\n",
       "      <td>35</td>\n",
       "    </tr>\n",
       "    <tr>\n",
       "      <th>40</th>\n",
       "      <td>South Dakota</td>\n",
       "      <td>11</td>\n",
       "    </tr>\n",
       "    <tr>\n",
       "      <th>41</th>\n",
       "      <td>Tennessee</td>\n",
       "      <td>78</td>\n",
       "    </tr>\n",
       "    <tr>\n",
       "      <th>42</th>\n",
       "      <td>Texas</td>\n",
       "      <td>186</td>\n",
       "    </tr>\n",
       "    <tr>\n",
       "      <th>43</th>\n",
       "      <td>Utah</td>\n",
       "      <td>53</td>\n",
       "    </tr>\n",
       "    <tr>\n",
       "      <th>44</th>\n",
       "      <td>Vermont</td>\n",
       "      <td>7</td>\n",
       "    </tr>\n",
       "    <tr>\n",
       "      <th>45</th>\n",
       "      <td>Virginia</td>\n",
       "      <td>71</td>\n",
       "    </tr>\n",
       "    <tr>\n",
       "      <th>46</th>\n",
       "      <td>Washington</td>\n",
       "      <td>498</td>\n",
       "    </tr>\n",
       "    <tr>\n",
       "      <th>47</th>\n",
       "      <td>West Virginia</td>\n",
       "      <td>87</td>\n",
       "    </tr>\n",
       "    <tr>\n",
       "      <th>48</th>\n",
       "      <td>Wisconsin</td>\n",
       "      <td>72</td>\n",
       "    </tr>\n",
       "    <tr>\n",
       "      <th>49</th>\n",
       "      <td>Wyoming</td>\n",
       "      <td>26</td>\n",
       "    </tr>\n",
       "  </tbody>\n",
       "</table>\n",
       "</div>"
      ],
      "text/plain": [
       "             state  submitted\n",
       "0                0        377\n",
       "1          Alabama         87\n",
       "2           Alaska         17\n",
       "3          Arizona         75\n",
       "4         Arkansas         83\n",
       "5       California        373\n",
       "6         Colorado        113\n",
       "7      Connecticut         11\n",
       "8         Delaware          4\n",
       "9          Florida        248\n",
       "10         Georgia        108\n",
       "11           Idaho         63\n",
       "12        Illinois        207\n",
       "13         Indiana         71\n",
       "14            Iowa         49\n",
       "15          Kansas         39\n",
       "16        Kentucky         95\n",
       "17       Louisiana         30\n",
       "18           Maine          7\n",
       "19        Maryland         28\n",
       "20   Massachusetts         24\n",
       "21        Michigan        179\n",
       "22       Minnesota         63\n",
       "23     Mississippi         20\n",
       "24        Missouri        124\n",
       "25         Montana         40\n",
       "26        Nebraska         14\n",
       "27          Nevada          7\n",
       "28   New Hampshire          9\n",
       "29      New Jersey         57\n",
       "30      New Mexico         40\n",
       "31        New York         83\n",
       "32  North Carolina         73\n",
       "33    North Dakota          4\n",
       "34            Ohio        228\n",
       "35        Oklahoma         79\n",
       "36          Oregon        216\n",
       "37    Pennsylvania         88\n",
       "38    Rhode Island          5\n",
       "39  South Carolina         35\n",
       "40    South Dakota         11\n",
       "41       Tennessee         78\n",
       "42           Texas        186\n",
       "43            Utah         53\n",
       "44         Vermont          7\n",
       "45        Virginia         71\n",
       "46      Washington        498\n",
       "47   West Virginia         87\n",
       "48       Wisconsin         72\n",
       "49         Wyoming         26"
      ]
     },
     "execution_count": 104,
     "metadata": {},
     "output_type": "execute_result"
    }
   ],
   "source": [
    "eda_df_group_state"
   ]
  },
  {
   "cell_type": "code",
   "execution_count": null,
   "metadata": {},
   "outputs": [],
   "source": []
  }
 ],
 "metadata": {
  "kernelspec": {
   "display_name": "Python 3",
   "language": "python",
   "name": "python3"
  },
  "language_info": {
   "codemirror_mode": {
    "name": "ipython",
    "version": 3
   },
   "file_extension": ".py",
   "mimetype": "text/x-python",
   "name": "python",
   "nbconvert_exporter": "python",
   "pygments_lexer": "ipython3",
   "version": "3.7.3"
  }
 },
 "nbformat": 4,
 "nbformat_minor": 2
}
