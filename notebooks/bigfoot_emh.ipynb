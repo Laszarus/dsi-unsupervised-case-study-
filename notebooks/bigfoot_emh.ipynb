{
 "cells": [
  {
   "cell_type": "code",
   "execution_count": 3,
   "metadata": {},
   "outputs": [],
   "source": [
    "import numpy as np\n",
    "import pandas as pd\n",
    "import scipy.stats as stats\n",
    "import matplotlib.pyplot as plt\n",
    "import json # to work with json file format\n",
    "from bs4 import BeautifulSoup\n",
    "\n",
    "pd.options.display.float_format = '{:,.2f}'.format"
   ]
  },
  {
   "cell_type": "code",
   "execution_count": 4,
   "metadata": {},
   "outputs": [],
   "source": [
    "file = '../data/bigfoot_data.json'"
   ]
  },
  {
   "cell_type": "code",
   "execution_count": 7,
   "metadata": {},
   "outputs": [],
   "source": [
    "df = pd.read_json(file, lines = True)"
   ]
  },
  {
   "cell_type": "code",
   "execution_count": 29,
   "metadata": {},
   "outputs": [
    {
     "data": {
      "text/html": [
       "<div>\n",
       "<style scoped>\n",
       "    .dataframe tbody tr th:only-of-type {\n",
       "        vertical-align: middle;\n",
       "    }\n",
       "\n",
       "    .dataframe tbody tr th {\n",
       "        vertical-align: top;\n",
       "    }\n",
       "\n",
       "    .dataframe thead th {\n",
       "        text-align: right;\n",
       "    }\n",
       "</style>\n",
       "<table border=\"1\" class=\"dataframe\">\n",
       "  <thead>\n",
       "    <tr style=\"text-align: right;\">\n",
       "      <th></th>\n",
       "      <th>_id</th>\n",
       "      <th>html</th>\n",
       "      <th>time</th>\n",
       "      <th>url</th>\n",
       "      <th>length_html_all</th>\n",
       "    </tr>\n",
       "  </thead>\n",
       "  <tbody>\n",
       "    <tr>\n",
       "      <th>0</th>\n",
       "      <td>{'$oid': '5939abbd2acdf6607095366c'}</td>\n",
       "      <td>\\r\\n&lt;!doctype html public \"-//w3c//dtd html 4....</td>\n",
       "      <td>Thu Jun  8 19:55:40 2017</td>\n",
       "      <td>show_report.asp?id=13038</td>\n",
       "      <td>15398</td>\n",
       "    </tr>\n",
       "    <tr>\n",
       "      <th>1</th>\n",
       "      <td>{'$oid': '5939abbd2acdf6607095366d'}</td>\n",
       "      <td>\\r\\n&lt;!doctype html public \"-//w3c//dtd html 4....</td>\n",
       "      <td>Thu Jun  8 19:55:41 2017</td>\n",
       "      <td>show_report.asp?id=8792</td>\n",
       "      <td>15724</td>\n",
       "    </tr>\n",
       "    <tr>\n",
       "      <th>2</th>\n",
       "      <td>{'$oid': '5939abbd2acdf6607095366e'}</td>\n",
       "      <td>\\r\\n&lt;!doctype html public \"-//w3c//dtd html 4....</td>\n",
       "      <td>Thu Jun  8 19:55:41 2017</td>\n",
       "      <td>show_report.asp?id=1255</td>\n",
       "      <td>12880</td>\n",
       "    </tr>\n",
       "    <tr>\n",
       "      <th>3</th>\n",
       "      <td>{'$oid': '5939abbd2acdf6607095366f'}</td>\n",
       "      <td>\\r\\n&lt;!doctype html public \"-//w3c//dtd html 4....</td>\n",
       "      <td>Thu Jun  8 19:55:41 2017</td>\n",
       "      <td>show_report.asp?id=11616</td>\n",
       "      <td>16314</td>\n",
       "    </tr>\n",
       "    <tr>\n",
       "      <th>4</th>\n",
       "      <td>{'$oid': '5939abbe2acdf66070953670'}</td>\n",
       "      <td>\\r\\n&lt;!doctype html public \"-//w3c//dtd html 4....</td>\n",
       "      <td>Thu Jun  8 19:55:42 2017</td>\n",
       "      <td>show_report.asp?id=637</td>\n",
       "      <td>15334</td>\n",
       "    </tr>\n",
       "  </tbody>\n",
       "</table>\n",
       "</div>"
      ],
      "text/plain": [
       "                                    _id  \\\n",
       "0  {'$oid': '5939abbd2acdf6607095366c'}   \n",
       "1  {'$oid': '5939abbd2acdf6607095366d'}   \n",
       "2  {'$oid': '5939abbd2acdf6607095366e'}   \n",
       "3  {'$oid': '5939abbd2acdf6607095366f'}   \n",
       "4  {'$oid': '5939abbe2acdf66070953670'}   \n",
       "\n",
       "                                                html  \\\n",
       "0  \\r\\n<!doctype html public \"-//w3c//dtd html 4....   \n",
       "1  \\r\\n<!doctype html public \"-//w3c//dtd html 4....   \n",
       "2  \\r\\n<!doctype html public \"-//w3c//dtd html 4....   \n",
       "3  \\r\\n<!doctype html public \"-//w3c//dtd html 4....   \n",
       "4  \\r\\n<!doctype html public \"-//w3c//dtd html 4....   \n",
       "\n",
       "                       time                       url  length_html_all  \n",
       "0  Thu Jun  8 19:55:40 2017  show_report.asp?id=13038            15398  \n",
       "1  Thu Jun  8 19:55:41 2017   show_report.asp?id=8792            15724  \n",
       "2  Thu Jun  8 19:55:41 2017   show_report.asp?id=1255            12880  \n",
       "3  Thu Jun  8 19:55:41 2017  show_report.asp?id=11616            16314  \n",
       "4  Thu Jun  8 19:55:42 2017    show_report.asp?id=637            15334  "
      ]
     },
     "execution_count": 29,
     "metadata": {},
     "output_type": "execute_result"
    }
   ],
   "source": [
    "df.head()"
   ]
  },
  {
   "cell_type": "code",
   "execution_count": 14,
   "metadata": {},
   "outputs": [
    {
     "data": {
      "text/plain": [
       "(4857, 4)"
      ]
     },
     "execution_count": 14,
     "metadata": {},
     "output_type": "execute_result"
    }
   ],
   "source": [
    "df.shape"
   ]
  },
  {
   "cell_type": "code",
   "execution_count": 15,
   "metadata": {},
   "outputs": [
    {
     "name": "stdout",
     "output_type": "stream",
     "text": [
      "<class 'pandas.core.frame.DataFrame'>\n",
      "RangeIndex: 4857 entries, 0 to 4856\n",
      "Data columns (total 4 columns):\n",
      "_id     4857 non-null object\n",
      "html    4857 non-null object\n",
      "time    4857 non-null object\n",
      "url     4857 non-null object\n",
      "dtypes: object(4)\n",
      "memory usage: 151.9+ KB\n"
     ]
    }
   ],
   "source": [
    "df.info()"
   ]
  },
  {
   "cell_type": "code",
   "execution_count": 30,
   "metadata": {},
   "outputs": [],
   "source": []
  },
  {
   "cell_type": "code",
   "execution_count": 18,
   "metadata": {},
   "outputs": [],
   "source": [
    "df['length_html_all'] = df['html'].str.len()"
   ]
  },
  {
   "cell_type": "code",
   "execution_count": 22,
   "metadata": {},
   "outputs": [
    {
     "data": {
      "text/plain": [
       "11171"
      ]
     },
     "execution_count": 22,
     "metadata": {},
     "output_type": "execute_result"
    }
   ],
   "source": [
    "df['length_html_all'].min()"
   ]
  },
  {
   "cell_type": "markdown",
   "metadata": {},
   "source": [
    "## No Duplicates in the HTML or URL columns!!\n"
   ]
  },
  {
   "cell_type": "code",
   "execution_count": 27,
   "metadata": {},
   "outputs": [
    {
     "data": {
      "text/html": [
       "<div>\n",
       "<style scoped>\n",
       "    .dataframe tbody tr th:only-of-type {\n",
       "        vertical-align: middle;\n",
       "    }\n",
       "\n",
       "    .dataframe tbody tr th {\n",
       "        vertical-align: top;\n",
       "    }\n",
       "\n",
       "    .dataframe thead th {\n",
       "        text-align: right;\n",
       "    }\n",
       "</style>\n",
       "<table border=\"1\" class=\"dataframe\">\n",
       "  <thead>\n",
       "    <tr style=\"text-align: right;\">\n",
       "      <th></th>\n",
       "      <th>_id</th>\n",
       "      <th>html</th>\n",
       "      <th>time</th>\n",
       "      <th>url</th>\n",
       "      <th>length_html_all</th>\n",
       "    </tr>\n",
       "  </thead>\n",
       "  <tbody>\n",
       "  </tbody>\n",
       "</table>\n",
       "</div>"
      ],
      "text/plain": [
       "Empty DataFrame\n",
       "Columns: [_id, html, time, url, length_html_all]\n",
       "Index: []"
      ]
     },
     "execution_count": 27,
     "metadata": {},
     "output_type": "execute_result"
    }
   ],
   "source": [
    "df[df.duplicated('html')]"
   ]
  },
  {
   "cell_type": "markdown",
   "metadata": {},
   "source": [
    "# Get info on tags"
   ]
  },
  {
   "cell_type": "code",
   "execution_count": 31,
   "metadata": {},
   "outputs": [],
   "source": [
    "test_vals = df['html'][0]"
   ]
  },
  {
   "cell_type": "code",
   "execution_count": 32,
   "metadata": {},
   "outputs": [],
   "source": [
    "soup = BeautifulSoup(test_vals, 'html.parser')"
   ]
  },
  {
   "cell_type": "code",
   "execution_count": 41,
   "metadata": {},
   "outputs": [
    {
     "data": {
      "text/plain": [
       "[<span class=\"field\">Submitted  by  witness   on Saturday, November 12, 2005.</span>,\n",
       " <span class=\"field\">Snowmobiler has encounter in deep snow near Potter, AK</span>,\n",
       " <span class=\"field\">YEAR:</span>,\n",
       " <span class=\"field\">SEASON:</span>,\n",
       " <span class=\"field\">MONTH:</span>,\n",
       " <span class=\"field\">STATE:</span>,\n",
       " <span class=\"field\">COUNTY:</span>,\n",
       " <span class=\"field\">LOCATION DETAILS:</span>,\n",
       " <span class=\"field\">NEAREST TOWN:</span>,\n",
       " <span class=\"field\">NEAREST ROAD:</span>,\n",
       " <span class=\"field\">OBSERVED:</span>,\n",
       " <span class=\"field\">ALSO NOTICED:</span>,\n",
       " <span class=\"field\">OTHER WITNESSES:</span>,\n",
       " <span class=\"field\">OTHER STORIES:</span>,\n",
       " <span class=\"field\">TIME AND CONDITIONS:</span>,\n",
       " <span class=\"field\">ENVIRONMENT:</span>]"
      ]
     },
     "execution_count": 41,
     "metadata": {},
     "output_type": "execute_result"
    }
   ],
   "source": [
    "soup.find_all('span', {'class': 'field'})"
   ]
  },
  {
   "cell_type": "code",
   "execution_count": 37,
   "metadata": {},
   "outputs": [],
   "source": [
    "spans = soup.find_all('span', {'class': 'field'})"
   ]
  },
  {
   "cell_type": "code",
   "execution_count": 49,
   "metadata": {},
   "outputs": [
    {
     "name": "stdout",
     "output_type": "stream",
     "text": [
      "YEAR: 2004\n",
      "------\n",
      "\n",
      "SEASON: Winter\n",
      "------\n",
      "\n",
      "MONTH: February\n",
      "------\n",
      "\n",
      "STATE: Alaska\n",
      "------\n",
      "\n",
      "COUNTY: Anchorage County\n",
      "------\n",
      "\n",
      "LOCATION DETAILS: Up near powerline clearings east of Potter Marsh in Anchorage.\n",
      "------\n",
      "\n",
      "NEAREST TOWN: Anchorage / Hillside\n",
      "------\n",
      "\n",
      "NEAREST ROAD: No real roads in the area\n",
      "------\n",
      "\n",
      "OBSERVED: I and two of my friends were bored one night so we decided to do a little snowmachining. Though it was illegal to snowmachine in Anchorage, there were some good trails to ride on a little north of my house.  We took off at probably 11 pm, rode up the road about a quarter mile, and cut off on the trails. It had snowed about 10 inches a few days before so there was fresh snow, with no tracks.  I was leading the way for about a half hour, then we stopped and talked for a little bit.  We took off again and kept cruising on some sort of game trail that led to an opening in the woods.  I rode off into the opening with my friends following about fifty yards behind me.  I came over this little mound and saw strange tracks leading to this spot in the snow where it looked like something had pushed aside some snow and layed down.  I figured it was just a moose or something.  But I followed the tracks over the next small hill and as I came down the far side my headlight pointed right on the back of a bigfoot.  It was only about 10 to 12 feet in front of me.  It was running in the opposite direction.  I slammed on the brakes because I was scared out of my mind.  It continued to run away, jumped over a dead log covered in snow and disappeared into a group of trees and into the darkness.  I was so surprised and scared I quickly turned around and rode back toward my friends. I met them back by the first mound and said \"We need to get out of here,\"  and rode back towards my house.  When I told them about it back near my house, they laughed and told me it was probably a bear or someone in the woods.  But I was 100% positive that is was not a bear or anything else. The way it was running through the deep snow made me sure that it wasn't anything human.  For a long time I was made fun of and everyone told me I was crazy so I didn't like talking about it.  \n",
      "------\n",
      "\n",
      "ALSO NOTICED: Some tracks in the snow, and a clearing in the fresh snow where it looked like a large animal had pushed snow aside and layed down.\n",
      "------\n",
      "\n",
      "OTHER WITNESSES: My two friends were snowmachining behind me but did not see it. If it had been light outside they might have seen it, but it was pitch black outside. My only light was from my snowmachine.\n",
      "------\n",
      "\n",
      "OTHER STORIES: I have not heard of any other incidents in Anchorage.\n",
      "------\n",
      "\n",
      "TIME AND CONDITIONS: Middle of the night. The only light was the headlight from my snowmachine.\n",
      "------\n",
      "\n",
      "ENVIRONMENT: In the middle of the woods, in a clearing covered in snow, with only small shrubs and bushes sticking out of the snow.  In the middle of the night.\n",
      "------\n",
      "\n"
     ]
    },
    {
     "data": {
      "text/plain": [
       "'for span in spans:\\n    print(span[\"class\"],span.text)'"
      ]
     },
     "execution_count": 49,
     "metadata": {},
     "output_type": "execute_result"
    }
   ],
   "source": [
    "data = dict()\n",
    "\n",
    "for sentence in soup.find_all(\"p\"):\n",
    "    if any(span in sentence for span in spans):\n",
    "        text = sentence.text\n",
    "        print (text)\n",
    "        print('------\\n')\n",
    "        #list_info = text.split(':')\n",
    "        \n",
    "#if any(ext in url_string for ext in extensionsToCheck):\n",
    "\n",
    "'''for span in spans:\n",
    "    print(span[\"class\"],span.text)'''"
   ]
  },
  {
   "cell_type": "code",
   "execution_count": null,
   "metadata": {},
   "outputs": [],
   "source": []
  }
 ],
 "metadata": {
  "kernelspec": {
   "display_name": "Python 3",
   "language": "python",
   "name": "python3"
  },
  "language_info": {
   "codemirror_mode": {
    "name": "ipython",
    "version": 3
   },
   "file_extension": ".py",
   "mimetype": "text/x-python",
   "name": "python",
   "nbconvert_exporter": "python",
   "pygments_lexer": "ipython3",
   "version": "3.7.3"
  }
 },
 "nbformat": 4,
 "nbformat_minor": 2
}
