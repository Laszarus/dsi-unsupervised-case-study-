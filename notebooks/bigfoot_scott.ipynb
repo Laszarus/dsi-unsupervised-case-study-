{
 "cells": [
  {
   "cell_type": "code",
   "execution_count": 1,
   "metadata": {},
   "outputs": [],
   "source": [
    "import json # to work with json file format\n",
    "from bs4 import BeautifulSoup # to parse html\n",
    "\n",
    "import numpy as np\n",
    "import pandas as pd\n",
    "import matplotlib.pyplot as plt\n",
    "%matplotlib inline"
   ]
  },
  {
   "cell_type": "code",
   "execution_count": 4,
   "metadata": {},
   "outputs": [],
   "source": [
    "df = pd.read_json('data/bigfoot_data.json', lines = True)"
   ]
  },
  {
   "cell_type": "code",
   "execution_count": 5,
   "metadata": {
    "scrolled": true
   },
   "outputs": [
    {
     "data": {
      "text/html": [
       "<div>\n",
       "<style scoped>\n",
       "    .dataframe tbody tr th:only-of-type {\n",
       "        vertical-align: middle;\n",
       "    }\n",
       "\n",
       "    .dataframe tbody tr th {\n",
       "        vertical-align: top;\n",
       "    }\n",
       "\n",
       "    .dataframe thead th {\n",
       "        text-align: right;\n",
       "    }\n",
       "</style>\n",
       "<table border=\"1\" class=\"dataframe\">\n",
       "  <thead>\n",
       "    <tr style=\"text-align: right;\">\n",
       "      <th></th>\n",
       "      <th>_id</th>\n",
       "      <th>html</th>\n",
       "      <th>time</th>\n",
       "      <th>url</th>\n",
       "    </tr>\n",
       "  </thead>\n",
       "  <tbody>\n",
       "    <tr>\n",
       "      <th>0</th>\n",
       "      <td>{'$oid': '5939abbd2acdf6607095366c'}</td>\n",
       "      <td>\\r\\n&lt;!doctype html public \"-//w3c//dtd html 4....</td>\n",
       "      <td>Thu Jun  8 19:55:40 2017</td>\n",
       "      <td>show_report.asp?id=13038</td>\n",
       "    </tr>\n",
       "    <tr>\n",
       "      <th>1</th>\n",
       "      <td>{'$oid': '5939abbd2acdf6607095366d'}</td>\n",
       "      <td>\\r\\n&lt;!doctype html public \"-//w3c//dtd html 4....</td>\n",
       "      <td>Thu Jun  8 19:55:41 2017</td>\n",
       "      <td>show_report.asp?id=8792</td>\n",
       "    </tr>\n",
       "    <tr>\n",
       "      <th>2</th>\n",
       "      <td>{'$oid': '5939abbd2acdf6607095366e'}</td>\n",
       "      <td>\\r\\n&lt;!doctype html public \"-//w3c//dtd html 4....</td>\n",
       "      <td>Thu Jun  8 19:55:41 2017</td>\n",
       "      <td>show_report.asp?id=1255</td>\n",
       "    </tr>\n",
       "    <tr>\n",
       "      <th>3</th>\n",
       "      <td>{'$oid': '5939abbd2acdf6607095366f'}</td>\n",
       "      <td>\\r\\n&lt;!doctype html public \"-//w3c//dtd html 4....</td>\n",
       "      <td>Thu Jun  8 19:55:41 2017</td>\n",
       "      <td>show_report.asp?id=11616</td>\n",
       "    </tr>\n",
       "    <tr>\n",
       "      <th>4</th>\n",
       "      <td>{'$oid': '5939abbe2acdf66070953670'}</td>\n",
       "      <td>\\r\\n&lt;!doctype html public \"-//w3c//dtd html 4....</td>\n",
       "      <td>Thu Jun  8 19:55:42 2017</td>\n",
       "      <td>show_report.asp?id=637</td>\n",
       "    </tr>\n",
       "  </tbody>\n",
       "</table>\n",
       "</div>"
      ],
      "text/plain": [
       "                                    _id  \\\n",
       "0  {'$oid': '5939abbd2acdf6607095366c'}   \n",
       "1  {'$oid': '5939abbd2acdf6607095366d'}   \n",
       "2  {'$oid': '5939abbd2acdf6607095366e'}   \n",
       "3  {'$oid': '5939abbd2acdf6607095366f'}   \n",
       "4  {'$oid': '5939abbe2acdf66070953670'}   \n",
       "\n",
       "                                                html  \\\n",
       "0  \\r\\n<!doctype html public \"-//w3c//dtd html 4....   \n",
       "1  \\r\\n<!doctype html public \"-//w3c//dtd html 4....   \n",
       "2  \\r\\n<!doctype html public \"-//w3c//dtd html 4....   \n",
       "3  \\r\\n<!doctype html public \"-//w3c//dtd html 4....   \n",
       "4  \\r\\n<!doctype html public \"-//w3c//dtd html 4....   \n",
       "\n",
       "                       time                       url  \n",
       "0  Thu Jun  8 19:55:40 2017  show_report.asp?id=13038  \n",
       "1  Thu Jun  8 19:55:41 2017   show_report.asp?id=8792  \n",
       "2  Thu Jun  8 19:55:41 2017   show_report.asp?id=1255  \n",
       "3  Thu Jun  8 19:55:41 2017  show_report.asp?id=11616  \n",
       "4  Thu Jun  8 19:55:42 2017    show_report.asp?id=637  "
      ]
     },
     "execution_count": 5,
     "metadata": {},
     "output_type": "execute_result"
    }
   ],
   "source": [
    "df.head()"
   ]
  },
  {
   "cell_type": "code",
   "execution_count": 6,
   "metadata": {},
   "outputs": [
    {
     "data": {
      "text/plain": [
       "'\\r\\n<!doctype html public \"-//w3c//dtd html 4.0 transitional//en\">\\r\\n<HTML>\\r\\n\\t<HEAD>\\r\\n        <meta http-equiv=\"X-UA-Compatible\" content=\"IE=EmulateIE7\" />\\r\\n        <meta http-equiv=\"Content-Type\" content=\"text/html; charset=iso-8859-1\">\\r\\n    <meta name=\"KEYWORDS\" content=\"bigfoot, big foot, BigFoot, BFRO, Bigfoot research, sightings database, organizations, Organization, sightings, lists, locations, areas, reports, report, ape, apes, forest, giant, giants, monster, monsters, swamp, creek, Florida, Skunk Ape Florida Skuk Ape, Abominable Snowman, Agogwe, Almasti, Batutut-Borneo, Didi, Dwendi, Kakundakari, Kung-Lu, Mapinguary, Muhalu, sasquatch, sasquach, Sedapa, Orang Pendek, Shiru, Sisimite, Skunk Ape, Tok- Burma, Yeti, Yowie, cryptozoology, animals, strange, glowing eyes, foot prints, cast, tracks, fottprint cast, hairy, beast, mystery, paranormal, ufo, x-files, xfiles, bionic woman, sightings, sighting, IVBC, Byrne, report, howl, scream, primate, everglades, Florida Everglades, swamp, Gigantopithecus, missing link, missing, link, anthropology, skunk, monkey, foot, big, encounters, eyewitness reports, North America, Submit a report, reports, Submit an Article, Submit Comments, theories, research projects, track, cast, investigation, hair, microscopy analysis, field research journals, the Gigantopithecus Theory, Sasquatching Equipment, Sasquatching Tips for Collecting Evidence, photograph, tracks, physical evidence, Sounds, Photos\">\\r\\n\\t\\t<TITLE>BFRO Report 13038: Snowmobiler has encounter in deep snow near Potter, AK</TITLE> \\r\\n\\r\\n\\t\\t<script src=\"/fade.js\" language=\"Javascript\"></script>\\r\\n\\t\\t<script type=\"text/javascript\">\\r\\n\\t\\tfunction runLogo() {\\r\\n\\t\\t\\tvar logo = document.getElementById(\"logo\");\\r\\n\\t\\t\\tif(logo != null)\\r\\n\\t\\t\\t{\\r\\n\\t\\t\\t\\tlogo.src=logo.src + \\'a;\\'\\r\\n\\t\\t\\t}\\r\\n\\t\\t}\\r\\n\\t\\t\\r\\n\\t\\t</script>\\r\\n\\r\\n\\r\\n\\t\\t<!-- /Flash Browser Detection Script -->\\r\\n    <LINK rel=\"STYLESHEET\" href=\"/bfro_v2.css\" type=\"text/css\">\\r\\n    <LINK REL=\"SHORTCUT ICON\" HREF=\"http://www.bfro.net/favicon.ico\">\\r\\n\\t</HEAD>\\r\\n\\t<BODY onLoad=\"runLogo()\"  bgcolor=\"#000000\" topmargin=\"0\" leftmargin=\"0\">\\r\\n\\r\\n\\t\\t\\t<SCRIPT>\\r\\n\\t\\t\\t<!--\\r\\n\\t\\t\\t\\tif (document.images) \\r\\n\\t\\t\\t\\t{\\r\\n\\t\\t\\t\\t\\tb_Media_Articles = new Image();\\r\\n\\t\\t\\t\\t\\tb_Media_Articles.src = \"/images/templates/b-Media%20Articles_hl.jpg\";\\r\\n\\t\\t\\t\\t\\tb_Media_Articles_orig = new Image();\\r\\n\\t\\t\\t\\t\\tb_Media_Articles_orig.src = \"/images/templates/b-Media%20Articles.jpg\";\\r\\n\\t\\t\\t\\t\\tb_ReportForm = new Image();\\r\\n\\t\\t\\t\\t\\tb_ReportForm.src = \"/images/templates/b-Report%20Form_hl.jpg\";\\r\\n\\t\\t\\t\\t\\tb_ReportForm_orig = new Image();\\r\\n\\t\\t\\t\\t\\tb_ReportForm_orig.src = \"/images/templates/b-Report%20Form.jpg\";\\r\\n\\t\\t\\t\\t\\tb_Home = new Image();\\r\\n\\t\\t\\t\\t\\tb_Home.src = \"/images/templates/b-Home_hl.jpg\";\\r\\n\\t\\t\\t\\t\\tb_Home_orig = new Image();\\r\\n\\t\\t\\t\\t\\tb_Home_orig.src = \"/images/templates/b-Home.jpg\";\\r\\n\\t\\t\\t\\t}\\r\\n\\r\\n\\t\\t\\t\\tfunction turnOn(imageName) \\r\\n\\t\\t\\t\\t{\\r\\n\\t\\t\\t\\t\\tif (document.images) \\r\\n\\t\\t\\t\\t\\t{\\r\\n\\t\\t\\t\\t\\t\\tdocument[imageName].src = eval(imageName + \".src\");  \\r\\n\\t\\t\\t\\t\\t}\\r\\n\\t\\t\\t\\t}\\r\\n\\r\\n\\t\\t\\t\\tfunction turnOff(imageName) \\r\\n\\t\\t\\t\\t{  \\r\\n\\t\\t\\t\\t\\tif (document.images) \\r\\n\\t\\t\\t\\t\\t{\\r\\n\\t\\t\\t\\t\\t\\t\\tdocument[imageName].src = eval(imageName + \"_orig.src\");  \\r\\n\\t\\t\\t\\t\\t}\\r\\n\\t\\t\\t\\t}\\r\\n\\t\\t\\t\\t-->\\r\\n\\t\\t\\t</SCRIPT>\\r\\n\\t\\t\\t<SCRIPT language=\"JavaScript1.2\" src=\"/images/templates/bfro_data.asp\"></SCRIPT>\\r\\n\\t\\t\\t<SCRIPT language=\"JavaScript1.2\" src=\"/images/templates/dqm_script.js\"></SCRIPT>\\r\\n\\t\\t\\t<table border=\"0\" align=\"left\" cellpadding=\"0\" cellspacing=\"0\" width=\"780\">\\r\\n\\t\\t\\t\\t<tr>\\r\\n\\t\\t\\t\\t\\t<td width=\"130\" valign=\"top\" align=\"middle\">\\r\\n\\t\\t\\t\\t\\t\\t\\r\\n    <table border=\"0\" align=\"left\" cellpadding=\"0\" cellspacing=\"0\" width=\"130\">\\r\\n      <tr> \\r\\n        <td height=\"130\" width=\"130\" align=\"middle\">  \\r\\n          <a href=\"/\"><img id=\"logo\" alt=\"Bigfoot Field Researchers Organization Logo\" src=\"/images/templates/LogoSpin.gif?\" onMouseOver=\"runLogo();\" height=\"130\" width=\"130\" border=\"0\"></a>\\r\\n          <NOSCRIPT>  <a href=\"/\"><img alt=\"Bigfoot Field Researchers Organization Logo\" src=\"/images/templates/LogoSpin.gif?\" onMouseOver=\"runLogo();\" height=\"130\" width=\"130\" border=\"0\"></a> \\r\\n           </NOSCRIPT>  </td>\\r\\n      </tr>\\r\\n      <tr> \\r\\n        <td align=\"left\" valign=\"top\"> \\r\\n          <table border=\"0\" cellpadding=\"0\" cellspacing=\"0\">\\r\\n            <tr> \\r\\n              <td colspan=\"2\"><IMG SRC=\"/images/templates/Outline_01.gif\" WIDTH=\"130\" HEIGHT=\"15\"></td>\\r\\n            </tr>\\r\\n            <tr> \\r\\n              <td><IMG SRC=\"/images/templates/Outline_02.gif\" WIDTH=\"15\" HEIGHT=\"20\"></td>\\r\\n              <td><A HREF=\"/\" onMouseOver=\"turnOn(\\'b_Home\\');\" onMouseOut=\"turnOff(\\'b_Home\\');\"><IMG NAME=\"b_Home\" SRC=\"/images/templates/b-Home.jpg\" WIDTH=\"130\" HEIGHT=\"20\" BORDER=\"0\"></A></td>\\r\\n            </tr>\\r\\n            <tr> \\r\\n              <td><IMG SRC=\"/images/templates/Outline_02.gif\" WIDTH=\"15\" HEIGHT=\"20\"></td>\\r\\n              <td><A HREF=\"/\"><img border=\"0\" src=\"/images/templates/b-Features.jpg\" width=\"130\" height=\"20\" name=\"menu0\" id=\"menu0\" onMouseOver=\"showMenu(event)\" onMouseOut=\"hideMenu(event)\"></A></td>\\r\\n            </tr>\\r\\n            <tr> \\r\\n              <td><IMG SRC=\"/images/templates/Outline_02.gif\" WIDTH=\"15\" HEIGHT=\"20\"></td>\\r\\n              <td><A HREF=\"/GDB/\"><img border=\"0\" src=\"/images/templates/b-Reports.jpg\" width=\"130\" height=\"20\" name=\"menu1\" id=\"menu1\" onMouseOver=\"showMenu(event)\" onMouseOut=\"hideMenu(event)\"></A></td>\\r\\n            </tr>\\r\\n            <tr> \\r\\n              <td><IMG SRC=\"/images/templates/Outline_02.gif\" WIDTH=\"15\" HEIGHT=\"20\"></td>\\r\\n              <td><A HREF=\"/GDB/newart.asp\" onMouseOver=\"turnOn(\\'b_Media_Articles\\');\" onMouseOut=\"turnOff(\\'b_Media_Articles\\');\"><IMG NAME=\"b_Media_Articles\" SRC=\"/images/templates/b-Media%20Articles.jpg\" WIDTH=\"130\" HEIGHT=\"20\" BORDER=\"0\"></A></td>\\r\\n            </tr>\\r\\n            <tr> \\r\\n              <td><IMG SRC=\"/images/templates/Outline_02.gif\" WIDTH=\"15\" HEIGHT=\"20\"></td>\\r\\n              <td><A HREF=\"/GDB/submitfm.asp\" onMouseOver=\"turnOn(\\'b_ReportForm\\');\" onMouseOut=\"turnOff(\\'b_ReportForm\\');\"><IMG NAME=\"b_ReportForm\" SRC=\"/images/templates/b-Report%20Form.jpg\" WIDTH=\"130\" HEIGHT=\"20\" BORDER=\"0\"></A></td>\\r\\n            </tr>\\r\\n            <tr> \\r\\n              <td><IMG SRC=\"/images/templates/Outline_02.gif\" WIDTH=\"15\" HEIGHT=\"20\"></td>\\r\\n              <td><a href=\"/gdb/show_fAQ.asp?id=405\"><img border=\"0\" src=\"/images/templates/b-FAQs.jpg\" width=\"130\" height=\"20\" name=\"menu2\" id=\"menu2\" onMouseOver=\"showMenu(event)\" onMouseOut=\"hideMenu(event)\"></a></td>\\r\\n            </tr>\\r\\n            <tr> \\r\\n              <td><IMG SRC=\"/images/templates/Outline_02.gif\" WIDTH=\"15\" HEIGHT=\"20\"></td>\\r\\n              <td><a href=\"/GDB/theories.asp\"><img border=\"0\" src=\"/images/templates/b-Departments.jpg\" width=\"130\" height=\"20\" name=\"menu3\" id=\"menu3\" onMouseOver=\"showMenu(event)\" onMouseOut=\"hideMenu(event)\"></a></td>\\r\\n            </tr>\\r\\n            <tr> \\r\\n              <td colspan=\"2\"><IMG SRC=\"/images/templates/Outline_05.gif\" WIDTH=\"130\" HEIGHT=\"15\"></td>\\r\\n            </tr>\\r\\n          </table>\\r\\n        </td>\\r\\n      </tr>\\r\\n      <tr align=\"left\" bordercolor=\"3\"> \\r\\n        <td style=\"padding-right: 13px; padding-left: 13px; font-size: 10pt\"> \\r\\n          <div align=\"left\">&nbsp;<br>\\r\\n            <br>\\r\\n            \\r\\n             </div>\\r\\n        </td></tr>\\r\\n<tr>\\r\\n  <td><a href=\"http://www.bfro.net/news/townhall.asp\"><img src=\"http://www.bfro.net/gdb/images/townhall_sidebar.gif\" alt=\"townhall\" width=\"135\" height=\"141\" border=\"3\"></a><br><br><br>\\r\\n    <a href=\"http://www.bfro.net/news/roundup/expeds_2017.asp\">\\r\\n<img src=\"http://www.bfro.net/gdb/images/exped_2017_map_sidebar.gif\" alt=\"expeds\" width=\"135\" height=\"127\" border=\"3\"></a><br>\\r\\n<!--<br>\\r\\n<br><br>\\r\\n<a href=\"http://www.bfro.net/merchandise/catalog.asp\"><img src=\"http://www.bfro.net/gdb/images/bfro_store_margin_banner.gif\" alt=\"store\" width=\"135\" height=\"81\" border=\"3\"></a>-->\\r\\n<br>\\r\\n<br>\\r\\n<a href=\"http://www.bfro.net/merchandise/catalog.asp\"><img src=\"http://www.bfro.net/gdb/images/margin_icon_store.gif\" alt=\"store\" width=\"135\" height=\"148\" border=\"3\"></a><br>\\r\\n<br><br><br>\\r\\n\\r\\n    <div id=\"google_translate_element\"></div><script>\\r\\nfunction googleTranslateElementInit() {\\r\\n  new google.translate.TranslateElement({\\r\\n    pageLanguage: \\'en\\'\\r\\n  }, \\'google_translate_element\\');\\r\\n}\\r\\n</script><script src=\"//translate.google.com/translate_a/element.js?cb=googleTranslateElementInit\"></script>\\r\\n<br><br>\\r\\n\\r\\n<!-- AddThis Button BEGIN -->\\r\\n<div class=\"addthis_toolbox addthis_default_style \">\\r\\n<a class=\"addthis_button_preferred_1\"></a>\\r\\n<a class=\"addthis_button_preferred_2\"></a>\\r\\n<a class=\"addthis_button_preferred_3\"></a>\\r\\n<a class=\"addthis_button_preferred_4\"></a>\\r\\n<a class=\"addthis_button_compact\"></a>\\r\\n<a class=\"addthis_counter addthis_bubble_style\"></a>\\r\\n</div>\\r\\n<script type=\"text/javascript\">var addthis_config = {\"data_track_clickback\":true};</script>\\r\\n<script type=\"text/javascript\" src=\"http://s7.addthis.com/js/250/addthis_widget.js#pubid=ra-4e017f48386f7ed9\"></script>\\r\\n<!-- AddThis Button END -->\\r\\n\\r\\n\\r\\n\\r\\n</td></tr>\\r\\n\\r\\n\\r\\n    </table>\\r\\n    \\r\\n    \\r\\n\\t\\t\\t\\t\\t\\t<!-- BEGIN CONTENT SECTION -->\\r\\n\\r\\n\\r\\n\\t\\t\\t\\t\\t</td>\\r\\n\\t\\t\\t\\t\\t<td>\\r\\n\\t\\t\\t\\t\\t\\t<img src=\"/images/templates/spacer.gif\" width=\"1\" height=\"400\" align=>\\r\\n\\t\\t\\t\\t\\t</td>\\r\\n\\t\\t\\t\\t\\t<td valign=\"top\" align=\"left\">\\r\\n\\t<table border=0 cellpadding=14 cellspacing=5 width=\"100%\" bgcolor=\"#003333\" ID=\"Table1\">\\r\\n\\t<tr><td>\\r\\n\\r\\n\\t\\t<span style=\"font-size: 10pt\"><a href=\"/gdb/\">Geographical Index</a> &gt; <a href=\"/gdb/#usa\">United States</a> &gt; <a href=\"/GDB/state_listing.asp?state=AK\">Alaska</a> &gt; <a href=\"/GDB/show_county_reports.asp?state=AK&county=Anchorage\">Anchorage County</a> &gt; Report # 13038<br>&nbsp;<br></span>\\r\\n    <span class=reportheader>Report # 13038</span>&nbsp;&nbsp;<span class=reportclassification>(Class A)</span>\\r\\n      <BR>\\r\\n      <span class=field>Submitted  by  witness   on Saturday,&nbsp;November&nbsp;12,&nbsp;2005.</span>\\r\\n    <hr size=\"5\" noshade color=\"#009900\">\\r\\n\\r\\n    <span class=field>Snowmobiler has encounter in deep snow near Potter, AK</span>\\r\\n    <hr size=\"5\" noshade color=\"#009900\">\\r\\n\\r\\n    <span style=\"font-size:10pt\"><a href=\"/GDB/show_report.asp?ID=13038&PrinterFriendly=True\">(Show Printer-friendly Version)</a></span>\\r\\n    \\r\\n    <p><span class=field>YEAR:</span> 2004</p>\\r\\n<p><span class=field>SEASON:</span> Winter</p><p><span class=field>MONTH:</span> February</p><p><span class=field>STATE:</span> <a href=\"/GDB/state_listing.asp?state=AK\">Alaska</a></p><p><span class=field>COUNTY:</span> <a href=\"/GDB/show_county_reports.asp?state=AK&county=Anchorage\">Anchorage County</a></p><p><span class=field>LOCATION DETAILS:</span> Up near powerline clearings east of Potter Marsh in Anchorage.</p><p><span class=field>NEAREST TOWN:</span> Anchorage / Hillside</p><p><span class=field>NEAREST ROAD:</span> No real roads in the area</p><p><span class=field>OBSERVED:</span> I and two of my friends were bored one night so we decided to do a little snowmachining. Though it was illegal to snowmachine in Anchorage, there were some good trails to ride on a little north of my house.  <BR><BR>We took off at probably 11 pm, rode up the road about a quarter mile, and cut off on the trails. It had snowed about 10 inches a few days before so there was fresh snow, with no tracks.  <BR><BR>I was leading the way for about a half hour, then we stopped and talked for a little bit.  We took off again and kept cruising on some sort of game trail that led to an opening in the woods.  I rode off into the opening with my friends following about fifty yards behind me.  <BR><BR>I came over this little mound and saw strange tracks leading to this spot in the snow where it looked like something had pushed aside some snow and layed down.  I figured it was just a moose or something.  But I followed the tracks over the next small hill and as I came down the far side my headlight pointed right on the back of a bigfoot. <BR><BR> It was only about 10 to 12 feet in front of me.  It was running in the opposite direction.  I slammed on the brakes because I was scared out of my mind.  It continued to run away, jumped over a dead log covered in snow and disappeared into a group of trees and into the darkness.  <BR><BR>I was so surprised and scared I quickly turned around and rode back toward my friends. I met them back by the first mound and said \"We need to get out of here,\"  and rode back towards my house.  When I told them about it back near my house, they laughed and told me it was probably a bear or someone in the woods.  But I was 100% positive that is was not a bear or anything else. <BR><BR>The way it was running through the deep snow made me sure that it wasn\\'t anything human.  For a long time I was made fun of and everyone told me I was crazy so I didn\\'t like talking about it.  </p><p><span class=field>ALSO NOTICED:</span> Some tracks in the snow, and a clearing in the fresh snow where it looked like a large animal had pushed snow aside and layed down.</p><p><span class=field>OTHER WITNESSES:</span> My two friends were snowmachining behind me but did not see it. If it had been light outside they might have seen it, but it was pitch black outside. My only light was from my snowmachine.</p><p><span class=field>OTHER STORIES:</span> I have not heard of any other incidents in Anchorage.</p><p><span class=field>TIME AND CONDITIONS:</span> Middle of the night. The only light was the headlight from my snowmachine.</p><p><span class=field>ENVIRONMENT:</span> In the middle of the woods, in a clearing covered in snow, with only small shrubs and bushes sticking out of the snow.  In the middle of the night.</p>\\r\\n    <hr size=\"5\" noshade color=\"#009900\">\\r\\n    <p>Follow-up investigation report by BFRO Investigator Dr. Wolf H. Fahrenbach:</p>\\r\\n    <blockquote>\\r\\n      <p>The animal was running from the approaching snowmobiles. <BR><BR>It was running smoothly with angled elbows, totally unimpeded by the fresh snow, which was about a foot deep and still falling on top of a deeper base. <BR><BR>It was dark brown in color, with a messy, matted coat and no perceptible neck.<BR><BR>The area of the encounter lies near a clear-cut lane for a pipeline and is within about a mile of the Anchorage Coastal Wildlife Refuge and Potter\\'s Marsh in wooded terrain.<BR></p>\\r\\n    </blockquote>\\r\\n\\r\\n    <hr size=\"5\" noshade color=\"#009900\">\\r\\n    <p>About BFRO Investigator Dr. Wolf H. Fahrenbach:</p>\\r\\n    <blockquote>\\r\\n      <p>Hair analysis since 1965.  Field work since 1989. Sasquatch courses given in Oregon and Arizona (3-10 weeks duration); Published in Cryptozoology.</p>\\r\\n    </blockquote>\\r\\n\\r\\n    <hr size=\"5\" noshade color=\"#009900\">\\r\\n\\r\\n    <ul>\\r\\n\\t\\t\\t<li><a href=\"/gdb/classify.asp\">Explanation of the report classification system</a></li>\\r\\n\\t\\t\\t\\r\\n        <li><a href=\"/GDB/submitfm.asp\">Submit a report for the sightings database</a></li>\\r\\n\\t\\t\\t<!--<li><a href=\"/GDB/comments.asp?CommentURL=http%3A%2F%2Fwww%2Ebfro%2Enet%2FGDB%2Fshow%5Freport%2Easp%3Fid%3D13038\">Submit a comment or article</a></li>-->\\r\\n\\t\\t\\t<li>Please send any comments or inquiries to Contact@BFRO.net</li>\\r\\n\\t\\t</ul>\\r\\n\\t\\t</td></tr></table><BR>&nbsp;\\r\\n\\r\\n\\t\\t\\t\\t\\t<!-- END CONTENT SECTION -->\\r\\n\\t\\t\\t\\t</td>\\r\\n\\t\\t\\t</tr>\\r\\n\\t\\t\\t<tr>\\r\\n\\t\\t\\t\\t<td colspan=\"2\" width=\"131\"><img src=\"/images/templates/spacer.gif\" width=\"131\" height=\"1\"></td>\\r\\n\\t\\t\\t\\t<td align=\"left\">&nbsp;&nbsp;<span class=\"smallprint\">Copyright &copy; 2017<!--2017--> BFRO.net</span>\\r\\n\\t\\t\\t\\t<br>&nbsp;\\r\\n\\t\\t\\t\\t<br><img src=\"/images/templates/spacer.gif\" wwidth=\"649\" height=\"1\"></td></tr>\\r\\n\\t\\t</table>\\r\\n\\r\\n<script type=\"text/javascript\">runLogo();</script>\\r\\n\\t</BODY>\\r\\n</HTML>\\r\\n\\r\\n'"
      ]
     },
     "execution_count": 6,
     "metadata": {},
     "output_type": "execute_result"
    }
   ],
   "source": [
    "df['html'][0]"
   ]
  },
  {
   "cell_type": "code",
   "execution_count": 7,
   "metadata": {},
   "outputs": [],
   "source": [
    "soup = BeautifulSoup(df['html'][0], 'html.parser')"
   ]
  },
  {
   "cell_type": "code",
   "execution_count": 8,
   "metadata": {
    "scrolled": true
   },
   "outputs": [
    {
     "data": {
      "text/plain": [
       "'\\n\\n\\n\\n\\n\\n\\nBFRO Report 13038: Snowmobiler has encounter in deep snow near Potter, AK\\n\\n\\r\\n\\t\\tfunction runLogo() {\\r\\n\\t\\t\\tvar logo = document.getElementById(\"logo\");\\r\\n\\t\\t\\tif(logo != null)\\r\\n\\t\\t\\t{\\r\\n\\t\\t\\t\\tlogo.src=logo.src + \\'a;\\'\\r\\n\\t\\t\\t}\\r\\n\\t\\t}\\r\\n\\t\\t\\r\\n\\t\\t\\n\\n\\n\\n\\n\\n\\r\\n\\t\\t\\t<!--\\r\\n\\t\\t\\t\\tif (document.images) \\r\\n\\t\\t\\t\\t{\\r\\n\\t\\t\\t\\t\\tb_Media_Articles = new Image();\\r\\n\\t\\t\\t\\t\\tb_Media_Articles.src = \"/images/templates/b-Media%20Articles_hl.jpg\";\\r\\n\\t\\t\\t\\t\\tb_Media_Articles_orig = new Image();\\r\\n\\t\\t\\t\\t\\tb_Media_Articles_orig.src = \"/images/templates/b-Media%20Articles.jpg\";\\r\\n\\t\\t\\t\\t\\tb_ReportForm = new Image();\\r\\n\\t\\t\\t\\t\\tb_ReportForm.src = \"/images/templates/b-Report%20Form_hl.jpg\";\\r\\n\\t\\t\\t\\t\\tb_ReportForm_orig = new Image();\\r\\n\\t\\t\\t\\t\\tb_ReportForm_orig.src = \"/images/templates/b-Report%20Form.jpg\";\\r\\n\\t\\t\\t\\t\\tb_Home = new Image();\\r\\n\\t\\t\\t\\t\\tb_Home.src = \"/images/templates/b-Home_hl.jpg\";\\r\\n\\t\\t\\t\\t\\tb_Home_orig = new Image();\\r\\n\\t\\t\\t\\t\\tb_Home_orig.src = \"/images/templates/b-Home.jpg\";\\r\\n\\t\\t\\t\\t}\\r\\n\\r\\n\\t\\t\\t\\tfunction turnOn(imageName) \\r\\n\\t\\t\\t\\t{\\r\\n\\t\\t\\t\\t\\tif (document.images) \\r\\n\\t\\t\\t\\t\\t{\\r\\n\\t\\t\\t\\t\\t\\tdocument[imageName].src = eval(imageName + \".src\");  \\r\\n\\t\\t\\t\\t\\t}\\r\\n\\t\\t\\t\\t}\\r\\n\\r\\n\\t\\t\\t\\tfunction turnOff(imageName) \\r\\n\\t\\t\\t\\t{  \\r\\n\\t\\t\\t\\t\\tif (document.images) \\r\\n\\t\\t\\t\\t\\t{\\r\\n\\t\\t\\t\\t\\t\\t\\tdocument[imageName].src = eval(imageName + \"_orig.src\");  \\r\\n\\t\\t\\t\\t\\t}\\r\\n\\t\\t\\t\\t}\\r\\n\\t\\t\\t\\t-->\\r\\n\\t\\t\\t\\n\\n\\n\\n\\n\\n\\n\\n\\n\\n \\n \\n\\n\\n\\n\\n\\n\\n\\n\\n\\n\\n\\n\\n\\n\\n\\n\\n\\n\\n\\n\\n\\n\\n\\n\\n\\n\\n\\n\\n\\n\\n\\n\\n\\n\\n\\n\\n\\n\\n\\n\\n\\n\\n\\n\\xa0\\n\\n\\n\\n\\n\\n\\n\\n\\n\\n\\n\\n\\n\\r\\nfunction googleTranslateElementInit() {\\r\\n  new google.translate.TranslateElement({\\r\\n    pageLanguage: \\'en\\'\\r\\n  }, \\'google_translate_element\\');\\r\\n}\\r\\n\\n\\n\\n\\n\\n\\n\\n\\n\\n\\n\\nvar addthis_config = {\"data_track_clickback\":true};\\n\\n\\n\\n\\n\\n\\n\\n\\n\\n\\n\\n\\nGeographical Index > United States > Alaska > Anchorage County > Report # 13038\\xa0\\nReport # 13038\\xa0\\xa0(Class A)\\n\\nSubmitted  by  witness   on Saturday,\\xa0November\\xa012,\\xa02005.\\n\\nSnowmobiler has encounter in deep snow near Potter, AK\\n\\n(Show Printer-friendly Version)\\nYEAR: 2004\\nSEASON: WinterMONTH: FebruarySTATE: AlaskaCOUNTY: Anchorage CountyLOCATION DETAILS: Up near powerline clearings east of Potter Marsh in Anchorage.NEAREST TOWN: Anchorage / HillsideNEAREST ROAD: No real roads in the areaOBSERVED: I and two of my friends were bored one night so we decided to do a little snowmachining. Though it was illegal to snowmachine in Anchorage, there were some good trails to ride on a little north of my house.  We took off at probably 11 pm, rode up the road about a quarter mile, and cut off on the trails. It had snowed about 10 inches a few days before so there was fresh snow, with no tracks.  I was leading the way for about a half hour, then we stopped and talked for a little bit.  We took off again and kept cruising on some sort of game trail that led to an opening in the woods.  I rode off into the opening with my friends following about fifty yards behind me.  I came over this little mound and saw strange tracks leading to this spot in the snow where it looked like something had pushed aside some snow and layed down.  I figured it was just a moose or something.  But I followed the tracks over the next small hill and as I came down the far side my headlight pointed right on the back of a bigfoot.  It was only about 10 to 12 feet in front of me.  It was running in the opposite direction.  I slammed on the brakes because I was scared out of my mind.  It continued to run away, jumped over a dead log covered in snow and disappeared into a group of trees and into the darkness.  I was so surprised and scared I quickly turned around and rode back toward my friends. I met them back by the first mound and said \"We need to get out of here,\"  and rode back towards my house.  When I told them about it back near my house, they laughed and told me it was probably a bear or someone in the woods.  But I was 100% positive that is was not a bear or anything else. The way it was running through the deep snow made me sure that it wasn\\'t anything human.  For a long time I was made fun of and everyone told me I was crazy so I didn\\'t like talking about it.  ALSO NOTICED: Some tracks in the snow, and a clearing in the fresh snow where it looked like a large animal had pushed snow aside and layed down.OTHER WITNESSES: My two friends were snowmachining behind me but did not see it. If it had been light outside they might have seen it, but it was pitch black outside. My only light was from my snowmachine.OTHER STORIES: I have not heard of any other incidents in Anchorage.TIME AND CONDITIONS: Middle of the night. The only light was the headlight from my snowmachine.ENVIRONMENT: In the middle of the woods, in a clearing covered in snow, with only small shrubs and bushes sticking out of the snow.  In the middle of the night.\\n\\nFollow-up investigation report by BFRO Investigator Dr. Wolf H. Fahrenbach:\\n\\nThe animal was running from the approaching snowmobiles. It was running smoothly with angled elbows, totally unimpeded by the fresh snow, which was about a foot deep and still falling on top of a deeper base. It was dark brown in color, with a messy, matted coat and no perceptible neck.The area of the encounter lies near a clear-cut lane for a pipeline and is within about a mile of the Anchorage Coastal Wildlife Refuge and Potter\\'s Marsh in wooded terrain.\\n\\n\\nAbout BFRO Investigator Dr. Wolf H. Fahrenbach:\\n\\nHair analysis since 1965.  Field work since 1989. Sasquatch courses given in Oregon and Arizona (3-10 weeks duration); Published in Cryptozoology.\\n\\n\\n\\nExplanation of the report classification system\\nSubmit a report for the sightings database\\n\\nPlease send any comments or inquiries to Contact@BFRO.net\\n\\n\\xa0\\r\\n\\r\\n\\t\\t\\t\\t\\t\\n\\n\\n\\n\\n\\xa0\\xa0Copyright © 2017 BFRO.net\\n\\xa0\\r\\n\\t\\t\\t\\t\\n\\nrunLogo();\\n\\n\\n'"
      ]
     },
     "execution_count": 8,
     "metadata": {},
     "output_type": "execute_result"
    }
   ],
   "source": [
    "soup.get_text()"
   ]
  },
  {
   "cell_type": "code",
   "execution_count": 9,
   "metadata": {},
   "outputs": [
    {
     "data": {
      "text/plain": [
       "<bound method Tag.prettify of \n",
       "<!DOCTYPE doctype html public \"-//w3c//dtd html 4.0 transitional//en\">\n",
       "\n",
       "<html>\n",
       "<head>\n",
       "<meta content=\"IE=EmulateIE7\" http-equiv=\"X-UA-Compatible\"/>\n",
       "<meta content=\"text/html; charset=utf-8\" http-equiv=\"Content-Type\"/>\n",
       "<meta content=\"bigfoot, big foot, BigFoot, BFRO, Bigfoot research, sightings database, organizations, Organization, sightings, lists, locations, areas, reports, report, ape, apes, forest, giant, giants, monster, monsters, swamp, creek, Florida, Skunk Ape Florida Skuk Ape, Abominable Snowman, Agogwe, Almasti, Batutut-Borneo, Didi, Dwendi, Kakundakari, Kung-Lu, Mapinguary, Muhalu, sasquatch, sasquach, Sedapa, Orang Pendek, Shiru, Sisimite, Skunk Ape, Tok- Burma, Yeti, Yowie, cryptozoology, animals, strange, glowing eyes, foot prints, cast, tracks, fottprint cast, hairy, beast, mystery, paranormal, ufo, x-files, xfiles, bionic woman, sightings, sighting, IVBC, Byrne, report, howl, scream, primate, everglades, Florida Everglades, swamp, Gigantopithecus, missing link, missing, link, anthropology, skunk, monkey, foot, big, encounters, eyewitness reports, North America, Submit a report, reports, Submit an Article, Submit Comments, theories, research projects, track, cast, investigation, hair, microscopy analysis, field research journals, the Gigantopithecus Theory, Sasquatching Equipment, Sasquatching Tips for Collecting Evidence, photograph, tracks, physical evidence, Sounds, Photos\" name=\"KEYWORDS\"/>\n",
       "<title>BFRO Report 13038: Snowmobiler has encounter in deep snow near Potter, AK</title>\n",
       "<script language=\"Javascript\" src=\"/fade.js\"></script>\n",
       "<script type=\"text/javascript\">\n",
       "\t\tfunction runLogo() {\n",
       "\t\t\tvar logo = document.getElementById(\"logo\");\n",
       "\t\t\tif(logo != null)\n",
       "\t\t\t{\n",
       "\t\t\t\tlogo.src=logo.src + 'a;'\n",
       "\t\t\t}\n",
       "\t\t}\n",
       "\t\t\n",
       "\t\t</script>\n",
       "<!-- /Flash Browser Detection Script -->\n",
       "<link href=\"/bfro_v2.css\" rel=\"STYLESHEET\" type=\"text/css\"/>\n",
       "<link href=\"http://www.bfro.net/favicon.ico\" rel=\"SHORTCUT ICON\"/>\n",
       "</head>\n",
       "<body bgcolor=\"#000000\" leftmargin=\"0\" onload=\"runLogo()\" topmargin=\"0\">\n",
       "<script>\n",
       "\t\t\t<!--\n",
       "\t\t\t\tif (document.images) \n",
       "\t\t\t\t{\n",
       "\t\t\t\t\tb_Media_Articles = new Image();\n",
       "\t\t\t\t\tb_Media_Articles.src = \"/images/templates/b-Media%20Articles_hl.jpg\";\n",
       "\t\t\t\t\tb_Media_Articles_orig = new Image();\n",
       "\t\t\t\t\tb_Media_Articles_orig.src = \"/images/templates/b-Media%20Articles.jpg\";\n",
       "\t\t\t\t\tb_ReportForm = new Image();\n",
       "\t\t\t\t\tb_ReportForm.src = \"/images/templates/b-Report%20Form_hl.jpg\";\n",
       "\t\t\t\t\tb_ReportForm_orig = new Image();\n",
       "\t\t\t\t\tb_ReportForm_orig.src = \"/images/templates/b-Report%20Form.jpg\";\n",
       "\t\t\t\t\tb_Home = new Image();\n",
       "\t\t\t\t\tb_Home.src = \"/images/templates/b-Home_hl.jpg\";\n",
       "\t\t\t\t\tb_Home_orig = new Image();\n",
       "\t\t\t\t\tb_Home_orig.src = \"/images/templates/b-Home.jpg\";\n",
       "\t\t\t\t}\n",
       "\n",
       "\t\t\t\tfunction turnOn(imageName) \n",
       "\t\t\t\t{\n",
       "\t\t\t\t\tif (document.images) \n",
       "\t\t\t\t\t{\n",
       "\t\t\t\t\t\tdocument[imageName].src = eval(imageName + \".src\");  \n",
       "\t\t\t\t\t}\n",
       "\t\t\t\t}\n",
       "\n",
       "\t\t\t\tfunction turnOff(imageName) \n",
       "\t\t\t\t{  \n",
       "\t\t\t\t\tif (document.images) \n",
       "\t\t\t\t\t{\n",
       "\t\t\t\t\t\t\tdocument[imageName].src = eval(imageName + \"_orig.src\");  \n",
       "\t\t\t\t\t}\n",
       "\t\t\t\t}\n",
       "\t\t\t\t-->\n",
       "\t\t\t</script>\n",
       "<script language=\"JavaScript1.2\" src=\"/images/templates/bfro_data.asp\"></script>\n",
       "<script language=\"JavaScript1.2\" src=\"/images/templates/dqm_script.js\"></script>\n",
       "<table align=\"left\" border=\"0\" cellpadding=\"0\" cellspacing=\"0\" width=\"780\">\n",
       "<tr>\n",
       "<td align=\"middle\" valign=\"top\" width=\"130\">\n",
       "<table align=\"left\" border=\"0\" cellpadding=\"0\" cellspacing=\"0\" width=\"130\">\n",
       "<tr>\n",
       "<td align=\"middle\" height=\"130\" width=\"130\">\n",
       "<a href=\"/\"><img alt=\"Bigfoot Field Researchers Organization Logo\" border=\"0\" height=\"130\" id=\"logo\" onmouseover=\"runLogo();\" src=\"/images/templates/LogoSpin.gif?\" width=\"130\"/></a>\n",
       "<noscript> <a href=\"/\"><img alt=\"Bigfoot Field Researchers Organization Logo\" border=\"0\" height=\"130\" onmouseover=\"runLogo();\" src=\"/images/templates/LogoSpin.gif?\" width=\"130\"/></a>\n",
       "</noscript> </td>\n",
       "</tr>\n",
       "<tr>\n",
       "<td align=\"left\" valign=\"top\">\n",
       "<table border=\"0\" cellpadding=\"0\" cellspacing=\"0\">\n",
       "<tr>\n",
       "<td colspan=\"2\"><img height=\"15\" src=\"/images/templates/Outline_01.gif\" width=\"130\"/></td>\n",
       "</tr>\n",
       "<tr>\n",
       "<td><img height=\"20\" src=\"/images/templates/Outline_02.gif\" width=\"15\"/></td>\n",
       "<td><a href=\"/\" onmouseout=\"turnOff('b_Home');\" onmouseover=\"turnOn('b_Home');\"><img border=\"0\" height=\"20\" name=\"b_Home\" src=\"/images/templates/b-Home.jpg\" width=\"130\"/></a></td>\n",
       "</tr>\n",
       "<tr>\n",
       "<td><img height=\"20\" src=\"/images/templates/Outline_02.gif\" width=\"15\"/></td>\n",
       "<td><a href=\"/\"><img border=\"0\" height=\"20\" id=\"menu0\" name=\"menu0\" onmouseout=\"hideMenu(event)\" onmouseover=\"showMenu(event)\" src=\"/images/templates/b-Features.jpg\" width=\"130\"/></a></td>\n",
       "</tr>\n",
       "<tr>\n",
       "<td><img height=\"20\" src=\"/images/templates/Outline_02.gif\" width=\"15\"/></td>\n",
       "<td><a href=\"/GDB/\"><img border=\"0\" height=\"20\" id=\"menu1\" name=\"menu1\" onmouseout=\"hideMenu(event)\" onmouseover=\"showMenu(event)\" src=\"/images/templates/b-Reports.jpg\" width=\"130\"/></a></td>\n",
       "</tr>\n",
       "<tr>\n",
       "<td><img height=\"20\" src=\"/images/templates/Outline_02.gif\" width=\"15\"/></td>\n",
       "<td><a href=\"/GDB/newart.asp\" onmouseout=\"turnOff('b_Media_Articles');\" onmouseover=\"turnOn('b_Media_Articles');\"><img border=\"0\" height=\"20\" name=\"b_Media_Articles\" src=\"/images/templates/b-Media%20Articles.jpg\" width=\"130\"/></a></td>\n",
       "</tr>\n",
       "<tr>\n",
       "<td><img height=\"20\" src=\"/images/templates/Outline_02.gif\" width=\"15\"/></td>\n",
       "<td><a href=\"/GDB/submitfm.asp\" onmouseout=\"turnOff('b_ReportForm');\" onmouseover=\"turnOn('b_ReportForm');\"><img border=\"0\" height=\"20\" name=\"b_ReportForm\" src=\"/images/templates/b-Report%20Form.jpg\" width=\"130\"/></a></td>\n",
       "</tr>\n",
       "<tr>\n",
       "<td><img height=\"20\" src=\"/images/templates/Outline_02.gif\" width=\"15\"/></td>\n",
       "<td><a href=\"/gdb/show_fAQ.asp?id=405\"><img border=\"0\" height=\"20\" id=\"menu2\" name=\"menu2\" onmouseout=\"hideMenu(event)\" onmouseover=\"showMenu(event)\" src=\"/images/templates/b-FAQs.jpg\" width=\"130\"/></a></td>\n",
       "</tr>\n",
       "<tr>\n",
       "<td><img height=\"20\" src=\"/images/templates/Outline_02.gif\" width=\"15\"/></td>\n",
       "<td><a href=\"/GDB/theories.asp\"><img border=\"0\" height=\"20\" id=\"menu3\" name=\"menu3\" onmouseout=\"hideMenu(event)\" onmouseover=\"showMenu(event)\" src=\"/images/templates/b-Departments.jpg\" width=\"130\"/></a></td>\n",
       "</tr>\n",
       "<tr>\n",
       "<td colspan=\"2\"><img height=\"15\" src=\"/images/templates/Outline_05.gif\" width=\"130\"/></td>\n",
       "</tr>\n",
       "</table>\n",
       "</td>\n",
       "</tr>\n",
       "<tr align=\"left\" bordercolor=\"3\">\n",
       "<td style=\"padding-right: 13px; padding-left: 13px; font-size: 10pt\">\n",
       "<div align=\"left\"> <br/>\n",
       "<br/>\n",
       "</div>\n",
       "</td></tr>\n",
       "<tr>\n",
       "<td><a href=\"http://www.bfro.net/news/townhall.asp\"><img alt=\"townhall\" border=\"3\" height=\"141\" src=\"http://www.bfro.net/gdb/images/townhall_sidebar.gif\" width=\"135\"/></a><br/><br/><br/>\n",
       "<a href=\"http://www.bfro.net/news/roundup/expeds_2017.asp\">\n",
       "<img alt=\"expeds\" border=\"3\" height=\"127\" src=\"http://www.bfro.net/gdb/images/exped_2017_map_sidebar.gif\" width=\"135\"/></a><br/>\n",
       "<!--<br>\n",
       "<br><br>\n",
       "<a href=\"http://www.bfro.net/merchandise/catalog.asp\"><img src=\"http://www.bfro.net/gdb/images/bfro_store_margin_banner.gif\" alt=\"store\" width=\"135\" height=\"81\" border=\"3\"></a>-->\n",
       "<br/>\n",
       "<br/>\n",
       "<a href=\"http://www.bfro.net/merchandise/catalog.asp\"><img alt=\"store\" border=\"3\" height=\"148\" src=\"http://www.bfro.net/gdb/images/margin_icon_store.gif\" width=\"135\"/></a><br/>\n",
       "<br/><br/><br/>\n",
       "<div id=\"google_translate_element\"></div><script>\n",
       "function googleTranslateElementInit() {\n",
       "  new google.translate.TranslateElement({\n",
       "    pageLanguage: 'en'\n",
       "  }, 'google_translate_element');\n",
       "}\n",
       "</script><script src=\"//translate.google.com/translate_a/element.js?cb=googleTranslateElementInit\"></script>\n",
       "<br/><br/>\n",
       "<!-- AddThis Button BEGIN -->\n",
       "<div class=\"addthis_toolbox addthis_default_style\">\n",
       "<a class=\"addthis_button_preferred_1\"></a>\n",
       "<a class=\"addthis_button_preferred_2\"></a>\n",
       "<a class=\"addthis_button_preferred_3\"></a>\n",
       "<a class=\"addthis_button_preferred_4\"></a>\n",
       "<a class=\"addthis_button_compact\"></a>\n",
       "<a class=\"addthis_counter addthis_bubble_style\"></a>\n",
       "</div>\n",
       "<script type=\"text/javascript\">var addthis_config = {\"data_track_clickback\":true};</script>\n",
       "<script src=\"http://s7.addthis.com/js/250/addthis_widget.js#pubid=ra-4e017f48386f7ed9\" type=\"text/javascript\"></script>\n",
       "<!-- AddThis Button END -->\n",
       "</td></tr>\n",
       "</table>\n",
       "<!-- BEGIN CONTENT SECTION -->\n",
       "</td>\n",
       "<td>\n",
       "<img align=\"\" height=\"400\" src=\"/images/templates/spacer.gif\" width=\"1\"/>\n",
       "</td>\n",
       "<td align=\"left\" valign=\"top\">\n",
       "<table bgcolor=\"#003333\" border=\"0\" cellpadding=\"14\" cellspacing=\"5\" id=\"Table1\" width=\"100%\">\n",
       "<tr><td>\n",
       "<span style=\"font-size: 10pt\"><a href=\"/gdb/\">Geographical Index</a> &gt; <a href=\"/gdb/#usa\">United States</a> &gt; <a href=\"/GDB/state_listing.asp?state=AK\">Alaska</a> &gt; <a href=\"/GDB/show_county_reports.asp?state=AK&amp;county=Anchorage\">Anchorage County</a> &gt; Report # 13038<br/> <br/></span>\n",
       "<span class=\"reportheader\">Report # 13038</span>  <span class=\"reportclassification\">(Class A)</span>\n",
       "<br/>\n",
       "<span class=\"field\">Submitted  by  witness   on Saturday, November 12, 2005.</span>\n",
       "<hr color=\"#009900\" noshade=\"\" size=\"5\"/>\n",
       "<span class=\"field\">Snowmobiler has encounter in deep snow near Potter, AK</span>\n",
       "<hr color=\"#009900\" noshade=\"\" size=\"5\"/>\n",
       "<span style=\"font-size:10pt\"><a href=\"/GDB/show_report.asp?ID=13038&amp;PrinterFriendly=True\">(Show Printer-friendly Version)</a></span>\n",
       "<p><span class=\"field\">YEAR:</span> 2004</p>\n",
       "<p><span class=\"field\">SEASON:</span> Winter</p><p><span class=\"field\">MONTH:</span> February</p><p><span class=\"field\">STATE:</span> <a href=\"/GDB/state_listing.asp?state=AK\">Alaska</a></p><p><span class=\"field\">COUNTY:</span> <a href=\"/GDB/show_county_reports.asp?state=AK&amp;county=Anchorage\">Anchorage County</a></p><p><span class=\"field\">LOCATION DETAILS:</span> Up near powerline clearings east of Potter Marsh in Anchorage.</p><p><span class=\"field\">NEAREST TOWN:</span> Anchorage / Hillside</p><p><span class=\"field\">NEAREST ROAD:</span> No real roads in the area</p><p><span class=\"field\">OBSERVED:</span> I and two of my friends were bored one night so we decided to do a little snowmachining. Though it was illegal to snowmachine in Anchorage, there were some good trails to ride on a little north of my house.  <br/><br/>We took off at probably 11 pm, rode up the road about a quarter mile, and cut off on the trails. It had snowed about 10 inches a few days before so there was fresh snow, with no tracks.  <br/><br/>I was leading the way for about a half hour, then we stopped and talked for a little bit.  We took off again and kept cruising on some sort of game trail that led to an opening in the woods.  I rode off into the opening with my friends following about fifty yards behind me.  <br/><br/>I came over this little mound and saw strange tracks leading to this spot in the snow where it looked like something had pushed aside some snow and layed down.  I figured it was just a moose or something.  But I followed the tracks over the next small hill and as I came down the far side my headlight pointed right on the back of a bigfoot. <br/><br/> It was only about 10 to 12 feet in front of me.  It was running in the opposite direction.  I slammed on the brakes because I was scared out of my mind.  It continued to run away, jumped over a dead log covered in snow and disappeared into a group of trees and into the darkness.  <br/><br/>I was so surprised and scared I quickly turned around and rode back toward my friends. I met them back by the first mound and said \"We need to get out of here,\"  and rode back towards my house.  When I told them about it back near my house, they laughed and told me it was probably a bear or someone in the woods.  But I was 100% positive that is was not a bear or anything else. <br/><br/>The way it was running through the deep snow made me sure that it wasn't anything human.  For a long time I was made fun of and everyone told me I was crazy so I didn't like talking about it.  </p><p><span class=\"field\">ALSO NOTICED:</span> Some tracks in the snow, and a clearing in the fresh snow where it looked like a large animal had pushed snow aside and layed down.</p><p><span class=\"field\">OTHER WITNESSES:</span> My two friends were snowmachining behind me but did not see it. If it had been light outside they might have seen it, but it was pitch black outside. My only light was from my snowmachine.</p><p><span class=\"field\">OTHER STORIES:</span> I have not heard of any other incidents in Anchorage.</p><p><span class=\"field\">TIME AND CONDITIONS:</span> Middle of the night. The only light was the headlight from my snowmachine.</p><p><span class=\"field\">ENVIRONMENT:</span> In the middle of the woods, in a clearing covered in snow, with only small shrubs and bushes sticking out of the snow.  In the middle of the night.</p>\n",
       "<hr color=\"#009900\" noshade=\"\" size=\"5\"/>\n",
       "<p>Follow-up investigation report by BFRO Investigator Dr. Wolf H. Fahrenbach:</p>\n",
       "<blockquote>\n",
       "<p>The animal was running from the approaching snowmobiles. <br/><br/>It was running smoothly with angled elbows, totally unimpeded by the fresh snow, which was about a foot deep and still falling on top of a deeper base. <br/><br/>It was dark brown in color, with a messy, matted coat and no perceptible neck.<br/><br/>The area of the encounter lies near a clear-cut lane for a pipeline and is within about a mile of the Anchorage Coastal Wildlife Refuge and Potter's Marsh in wooded terrain.<br/></p>\n",
       "</blockquote>\n",
       "<hr color=\"#009900\" noshade=\"\" size=\"5\"/>\n",
       "<p>About BFRO Investigator Dr. Wolf H. Fahrenbach:</p>\n",
       "<blockquote>\n",
       "<p>Hair analysis since 1965.  Field work since 1989. Sasquatch courses given in Oregon and Arizona (3-10 weeks duration); Published in Cryptozoology.</p>\n",
       "</blockquote>\n",
       "<hr color=\"#009900\" noshade=\"\" size=\"5\"/>\n",
       "<ul>\n",
       "<li><a href=\"/gdb/classify.asp\">Explanation of the report classification system</a></li>\n",
       "<li><a href=\"/GDB/submitfm.asp\">Submit a report for the sightings database</a></li>\n",
       "<!--<li><a href=\"/GDB/comments.asp?CommentURL=http%3A%2F%2Fwww%2Ebfro%2Enet%2FGDB%2Fshow%5Freport%2Easp%3Fid%3D13038\">Submit a comment or article</a></li>-->\n",
       "<li>Please send any comments or inquiries to Contact@BFRO.net</li>\n",
       "</ul>\n",
       "</td></tr></table><br/> \n",
       "\n",
       "\t\t\t\t\t<!-- END CONTENT SECTION -->\n",
       "</td>\n",
       "</tr>\n",
       "<tr>\n",
       "<td colspan=\"2\" width=\"131\"><img height=\"1\" src=\"/images/templates/spacer.gif\" width=\"131\"/></td>\n",
       "<td align=\"left\">  <span class=\"smallprint\">Copyright © 2017<!--2017--> BFRO.net</span>\n",
       "<br/> \n",
       "\t\t\t\t<br/><img height=\"1\" src=\"/images/templates/spacer.gif\" wwidth=\"649\"/></td></tr>\n",
       "</table>\n",
       "<script type=\"text/javascript\">runLogo();</script>\n",
       "</body>\n",
       "</html>\n",
       ">"
      ]
     },
     "execution_count": 9,
     "metadata": {},
     "output_type": "execute_result"
    }
   ],
   "source": [
    "soup.prettify"
   ]
  },
  {
   "cell_type": "code",
   "execution_count": 10,
   "metadata": {},
   "outputs": [
    {
     "data": {
      "text/html": [
       "<div>\n",
       "<style scoped>\n",
       "    .dataframe tbody tr th:only-of-type {\n",
       "        vertical-align: middle;\n",
       "    }\n",
       "\n",
       "    .dataframe tbody tr th {\n",
       "        vertical-align: top;\n",
       "    }\n",
       "\n",
       "    .dataframe thead th {\n",
       "        text-align: right;\n",
       "    }\n",
       "</style>\n",
       "<table border=\"1\" class=\"dataframe\">\n",
       "  <thead>\n",
       "    <tr style=\"text-align: right;\">\n",
       "      <th></th>\n",
       "      <th>SUBMITTED</th>\n",
       "      <th>TITLE</th>\n",
       "      <th>YEAR</th>\n",
       "      <th>SEASON</th>\n",
       "      <th>MONTH</th>\n",
       "      <th>STATE</th>\n",
       "      <th>COUNTY</th>\n",
       "      <th>LOCATION DETAILS</th>\n",
       "      <th>NEAREST TOWN</th>\n",
       "      <th>NEAREST ROAD</th>\n",
       "      <th>OBSERVED</th>\n",
       "      <th>ALSO NOTICED</th>\n",
       "      <th>OTHER WITNESSES</th>\n",
       "      <th>OTHER STORIES</th>\n",
       "      <th>TIME AND CONDITIONS</th>\n",
       "      <th>ENVIRONMENT</th>\n",
       "    </tr>\n",
       "  </thead>\n",
       "  <tbody>\n",
       "  </tbody>\n",
       "</table>\n",
       "</div>"
      ],
      "text/plain": [
       "Empty DataFrame\n",
       "Columns: [SUBMITTED, TITLE, YEAR, SEASON, MONTH, STATE, COUNTY, LOCATION DETAILS, NEAREST TOWN, NEAREST ROAD, OBSERVED, ALSO NOTICED, OTHER WITNESSES, OTHER STORIES, TIME AND CONDITIONS, ENVIRONMENT]\n",
       "Index: []"
      ]
     },
     "execution_count": 10,
     "metadata": {},
     "output_type": "execute_result"
    }
   ],
   "source": [
    "cols = ['SUBMITTED', 'TITLE', 'YEAR', 'SEASON', 'MONTH',\n",
    "                                  'STATE', 'COUNTY', 'LOCATION DETAILS', 'NEAREST TOWN',\n",
    "                                  'NEAREST ROAD', 'OBSERVED', 'ALSO NOTICED',\n",
    "                                  'OTHER WITNESSES', 'OTHER STORIES', 'TIME AND CONDITIONS',\n",
    "                                  'ENVIRONMENT']\n",
    "\n",
    "# save this for later\n",
    "# for i, col in enumerate(cols):\n",
    "#     cols[i] = col.lower()\n",
    "\n",
    "html_df = pd.DataFrame(columns = cols)\n",
    "html_df"
   ]
  },
  {
   "cell_type": "code",
   "execution_count": 11,
   "metadata": {},
   "outputs": [],
   "source": [
    "for doc in df.html:\n",
    "    doc_dict = dict()\n",
    "    souped_doc = BeautifulSoup(doc, 'html.parser')\n",
    "    spans = souped_doc.find_all('span', {'class': 'field'})\n",
    "    \n",
    "    try:\n",
    "        doc_dict['SUBMITTED'] = spans[0].text\n",
    "        doc_dict['TITLE'] = spans[1].text\n",
    "    except:\n",
    "        continue\n",
    "        \n",
    "    for sentence in souped_doc.find_all(\"p\"):\n",
    "        if any(span in sentence for span in spans):\n",
    "            text = sentence.text\n",
    "            #print (text)\n",
    "            #print('------\\n')\n",
    "            list_info = text.split(': ',1)\n",
    "            #print(list_info)\n",
    "            doc_dict[list_info[0]] = list_info[1]\n",
    "    \n",
    "    html_df = html_df.append({k:doc_dict[k] for k in cols if k in doc_dict}, ignore_index=True)\n",
    "    \n",
    "newcols = []\n",
    "\n",
    "for col in html_df.columns:\n",
    "    newcols.append(col.lower())\n",
    "    \n",
    "html_df.columns = newcols"
   ]
  },
  {
   "cell_type": "code",
   "execution_count": 12,
   "metadata": {},
   "outputs": [
    {
     "name": "stdout",
     "output_type": "stream",
     "text": [
      "(4799, 16)\n"
     ]
    },
    {
     "data": {
      "text/html": [
       "<div>\n",
       "<style scoped>\n",
       "    .dataframe tbody tr th:only-of-type {\n",
       "        vertical-align: middle;\n",
       "    }\n",
       "\n",
       "    .dataframe tbody tr th {\n",
       "        vertical-align: top;\n",
       "    }\n",
       "\n",
       "    .dataframe thead th {\n",
       "        text-align: right;\n",
       "    }\n",
       "</style>\n",
       "<table border=\"1\" class=\"dataframe\">\n",
       "  <thead>\n",
       "    <tr style=\"text-align: right;\">\n",
       "      <th></th>\n",
       "      <th>submitted</th>\n",
       "      <th>title</th>\n",
       "      <th>year</th>\n",
       "      <th>season</th>\n",
       "      <th>month</th>\n",
       "      <th>state</th>\n",
       "      <th>county</th>\n",
       "      <th>location details</th>\n",
       "      <th>nearest town</th>\n",
       "      <th>nearest road</th>\n",
       "      <th>observed</th>\n",
       "      <th>also noticed</th>\n",
       "      <th>other witnesses</th>\n",
       "      <th>other stories</th>\n",
       "      <th>time and conditions</th>\n",
       "      <th>environment</th>\n",
       "    </tr>\n",
       "  </thead>\n",
       "  <tbody>\n",
       "    <tr>\n",
       "      <th>0</th>\n",
       "      <td>Submitted  by  witness   on Saturday, November...</td>\n",
       "      <td>Snowmobiler has encounter in deep snow near Po...</td>\n",
       "      <td>2004</td>\n",
       "      <td>Winter</td>\n",
       "      <td>February</td>\n",
       "      <td>Alaska</td>\n",
       "      <td>Anchorage County</td>\n",
       "      <td>Up near powerline clearings east of Potter Mar...</td>\n",
       "      <td>Anchorage / Hillside</td>\n",
       "      <td>No real roads in the area</td>\n",
       "      <td>I and two of my friends were bored one night s...</td>\n",
       "      <td>Some tracks in the snow, and a clearing in the...</td>\n",
       "      <td>My two friends were snowmachining behind me bu...</td>\n",
       "      <td>I have not heard of any other incidents in Anc...</td>\n",
       "      <td>Middle of the night. The only light was the he...</td>\n",
       "      <td>In the middle of the woods, in a clearing cove...</td>\n",
       "    </tr>\n",
       "    <tr>\n",
       "      <th>1</th>\n",
       "      <td>Submitted  by  witness   on Thursday, June 3, ...</td>\n",
       "      <td>Four nocturnal hikers get pelted with snow nea...</td>\n",
       "      <td>2003</td>\n",
       "      <td>Winter</td>\n",
       "      <td>December</td>\n",
       "      <td>Alaska</td>\n",
       "      <td>Anchorage County</td>\n",
       "      <td>Few houses on the way, a power relay station. ...</td>\n",
       "      <td>Anchorage</td>\n",
       "      <td>Dowling</td>\n",
       "      <td>Me and a couple of friends had been bored, whe...</td>\n",
       "      <td>We smelled of colonge and after shave, and one...</td>\n",
       "      <td>4. Me, w-man, warren and sean. We were at my h...</td>\n",
       "      <td>no</td>\n",
       "      <td>Started at 11, ended at about 3-3:30. Weather ...</td>\n",
       "      <td>A pine forest, with a bog or swamp on the righ...</td>\n",
       "    </tr>\n",
       "    <tr>\n",
       "      <th>2</th>\n",
       "      <td>Submitted  by  witness A. M. on Tuesday, Octob...</td>\n",
       "      <td>Creature observed walking back and forth by wi...</td>\n",
       "      <td>1998</td>\n",
       "      <td>Fall</td>\n",
       "      <td>September</td>\n",
       "      <td>Alaska</td>\n",
       "      <td>Bethel County</td>\n",
       "      <td>45 miles by air west of Lake Iliamna, Alaska i...</td>\n",
       "      <td>NaN</td>\n",
       "      <td>NaN</td>\n",
       "      <td>My hunting buddy and I were sitting on a ridge...</td>\n",
       "      <td>nothing unusual</td>\n",
       "      <td>Scouting for caribou with high quality binocul...</td>\n",
       "      <td>NaN</td>\n",
       "      <td>NaN</td>\n",
       "      <td>Call Iliamna Air taxi for lat &amp; Long of Long L...</td>\n",
       "    </tr>\n",
       "    <tr>\n",
       "      <th>3</th>\n",
       "      <td>Submitted  by  witness   on Friday, May 6, 2005.</td>\n",
       "      <td>Fishermen find footprints east of Egegik</td>\n",
       "      <td>2004</td>\n",
       "      <td>Summer</td>\n",
       "      <td>July</td>\n",
       "      <td>Alaska</td>\n",
       "      <td>Bristol Bay County</td>\n",
       "      <td>Approximately 95 miles east of Egegik, Alaska....</td>\n",
       "      <td>Egegik</td>\n",
       "      <td>NaN</td>\n",
       "      <td>To whom it may concern, I am a commercial fish...</td>\n",
       "      <td>Just these foot prints and how obvious it was ...</td>\n",
       "      <td>One other witness, and he was fishing prior to...</td>\n",
       "      <td>I've only heard of one other story, from an ol...</td>\n",
       "      <td>Approximately 12:30 pm, partially coudy/sunny.</td>\n",
       "      <td>Lake front,creek spit, gravel and sand, alder ...</td>\n",
       "    </tr>\n",
       "    <tr>\n",
       "      <th>4</th>\n",
       "      <td>Submitted  by  witness   on Monday, November 1...</td>\n",
       "      <td>Campers' encounter just after dark in the Wran...</td>\n",
       "      <td>2000</td>\n",
       "      <td>Summer</td>\n",
       "      <td>June</td>\n",
       "      <td>Alaska</td>\n",
       "      <td>Cordova-McCarthy County</td>\n",
       "      <td>On the main trail toward the glacier, before t...</td>\n",
       "      <td>Kennikot, Alaska</td>\n",
       "      <td>not sure</td>\n",
       "      <td>My hiking partner and I arrived late to the Ke...</td>\n",
       "      <td>I did hear what appeared to be grunting in the...</td>\n",
       "      <td>I was the only witness, there was one other in...</td>\n",
       "      <td>None</td>\n",
       "      <td>About 12:00 Midnight / full moon / clear / dim...</td>\n",
       "      <td>This sighting was located at approximately 1 t...</td>\n",
       "    </tr>\n",
       "  </tbody>\n",
       "</table>\n",
       "</div>"
      ],
      "text/plain": [
       "                                           submitted  \\\n",
       "0  Submitted  by  witness   on Saturday, November...   \n",
       "1  Submitted  by  witness   on Thursday, June 3, ...   \n",
       "2  Submitted  by  witness A. M. on Tuesday, Octob...   \n",
       "3   Submitted  by  witness   on Friday, May 6, 2005.   \n",
       "4  Submitted  by  witness   on Monday, November 1...   \n",
       "\n",
       "                                               title  year  season      month  \\\n",
       "0  Snowmobiler has encounter in deep snow near Po...  2004  Winter   February   \n",
       "1  Four nocturnal hikers get pelted with snow nea...  2003  Winter   December   \n",
       "2  Creature observed walking back and forth by wi...  1998    Fall  September   \n",
       "3           Fishermen find footprints east of Egegik  2004  Summer       July   \n",
       "4  Campers' encounter just after dark in the Wran...  2000  Summer       June   \n",
       "\n",
       "    state                   county  \\\n",
       "0  Alaska         Anchorage County   \n",
       "1  Alaska         Anchorage County   \n",
       "2  Alaska            Bethel County   \n",
       "3  Alaska       Bristol Bay County   \n",
       "4  Alaska  Cordova-McCarthy County   \n",
       "\n",
       "                                    location details          nearest town  \\\n",
       "0  Up near powerline clearings east of Potter Mar...  Anchorage / Hillside   \n",
       "1  Few houses on the way, a power relay station. ...             Anchorage   \n",
       "2  45 miles by air west of Lake Iliamna, Alaska i...                   NaN   \n",
       "3  Approximately 95 miles east of Egegik, Alaska....               Egegik    \n",
       "4  On the main trail toward the glacier, before t...      Kennikot, Alaska   \n",
       "\n",
       "                nearest road  \\\n",
       "0  No real roads in the area   \n",
       "1                    Dowling   \n",
       "2                        NaN   \n",
       "3                        NaN   \n",
       "4                  not sure    \n",
       "\n",
       "                                            observed  \\\n",
       "0  I and two of my friends were bored one night s...   \n",
       "1  Me and a couple of friends had been bored, whe...   \n",
       "2  My hunting buddy and I were sitting on a ridge...   \n",
       "3  To whom it may concern, I am a commercial fish...   \n",
       "4  My hiking partner and I arrived late to the Ke...   \n",
       "\n",
       "                                        also noticed  \\\n",
       "0  Some tracks in the snow, and a clearing in the...   \n",
       "1  We smelled of colonge and after shave, and one...   \n",
       "2                                   nothing unusual    \n",
       "3  Just these foot prints and how obvious it was ...   \n",
       "4  I did hear what appeared to be grunting in the...   \n",
       "\n",
       "                                     other witnesses  \\\n",
       "0  My two friends were snowmachining behind me bu...   \n",
       "1  4. Me, w-man, warren and sean. We were at my h...   \n",
       "2  Scouting for caribou with high quality binocul...   \n",
       "3  One other witness, and he was fishing prior to...   \n",
       "4  I was the only witness, there was one other in...   \n",
       "\n",
       "                                       other stories  \\\n",
       "0  I have not heard of any other incidents in Anc...   \n",
       "1                                                 no   \n",
       "2                                                NaN   \n",
       "3  I've only heard of one other story, from an ol...   \n",
       "4                                               None   \n",
       "\n",
       "                                 time and conditions  \\\n",
       "0  Middle of the night. The only light was the he...   \n",
       "1  Started at 11, ended at about 3-3:30. Weather ...   \n",
       "2                                                NaN   \n",
       "3     Approximately 12:30 pm, partially coudy/sunny.   \n",
       "4  About 12:00 Midnight / full moon / clear / dim...   \n",
       "\n",
       "                                         environment  \n",
       "0  In the middle of the woods, in a clearing cove...  \n",
       "1  A pine forest, with a bog or swamp on the righ...  \n",
       "2  Call Iliamna Air taxi for lat & Long of Long L...  \n",
       "3  Lake front,creek spit, gravel and sand, alder ...  \n",
       "4  This sighting was located at approximately 1 t...  "
      ]
     },
     "execution_count": 12,
     "metadata": {},
     "output_type": "execute_result"
    }
   ],
   "source": [
    "print(html_df.shape)\n",
    "html_df.head()"
   ]
  },
  {
   "cell_type": "code",
   "execution_count": 13,
   "metadata": {},
   "outputs": [],
   "source": [
    "import seaborn as sns"
   ]
  },
  {
   "cell_type": "code",
   "execution_count": 14,
   "metadata": {},
   "outputs": [
    {
     "data": {
      "image/png": "[encoded data removed]",
      "text/plain": [
       "<Figure size 432x288 with 1 Axes>"
      ]
     },
     "metadata": {
      "needs_background": "light"
     },
     "output_type": "display_data"
    }
   ],
   "source": [
    "ax = sns.countplot(x=\"season\", data=html_df, color = 'darkblue')"
   ]
  },
  {
   "cell_type": "markdown",
   "metadata": {},
   "source": [
    "## Basic NLP"
   ]
  },
  {
   "cell_type": "code",
   "execution_count": 15,
   "metadata": {},
   "outputs": [],
   "source": [
    "observations = html_df.observed.dropna()"
   ]
  },
  {
   "cell_type": "code",
   "execution_count": 16,
   "metadata": {},
   "outputs": [
    {
     "data": {
      "text/plain": [
       "CountVectorizer(analyzer='word', binary=False, decode_error='strict',\n",
       "        dtype=<class 'numpy.int64'>, encoding='utf-8', input='content',\n",
       "        lowercase=True, max_df=1.0, max_features=None, min_df=1,\n",
       "        ngram_range=(1, 1), preprocessor=None, stop_words='english',\n",
       "        strip_accents=None, token_pattern='(?u)\\\\b\\\\w\\\\w+\\\\b',\n",
       "        tokenizer=None, vocabulary=None)"
      ]
     },
     "execution_count": 16,
     "metadata": {},
     "output_type": "execute_result"
    }
   ],
   "source": [
    "from sklearn.feature_extraction.text import CountVectorizer\n",
    "count_vect = CountVectorizer(lowercase=True, tokenizer=None, stop_words='english',\n",
    "                             analyzer='word', max_df=1.0, min_df=1,\n",
    "                             max_features=None)\n",
    "count_vect.fit(observations)"
   ]
  },
  {
   "cell_type": "code",
   "execution_count": 17,
   "metadata": {},
   "outputs": [],
   "source": [
    "#count_vect.vocabulary_"
   ]
  },
  {
   "cell_type": "code",
   "execution_count": 18,
   "metadata": {},
   "outputs": [
    {
     "data": {
      "text/plain": [
       "[('zz', 27663), ('zoos', 27662), ('zooology', 27661)]"
      ]
     },
     "execution_count": 18,
     "metadata": {},
     "output_type": "execute_result"
    }
   ],
   "source": [
    "import collections\n",
    "vocab = collections.Counter(count_vect.vocabulary_)\n",
    "vocab.most_common(3) # this isn't giving the most common, it's giving the indices, but will save here for later"
   ]
  },
  {
   "cell_type": "code",
   "execution_count": 19,
   "metadata": {},
   "outputs": [
    {
     "name": "stdout",
     "output_type": "stream",
     "text": [
      "The type of X_train_counts is <class 'scipy.sparse.csr.csr_matrix'>.\n",
      "The X matrix has 4767 rows (documents) and 27664 columns (words).\n"
     ]
    }
   ],
   "source": [
    "X_train_counts = count_vect.transform(observations)\n",
    "print(\"The type of X_train_counts is {0}.\".format(type(X_train_counts)))\n",
    "print(\"The X matrix has {0} rows (documents) and {1} columns (words).\".format(\n",
    "        X_train_counts.shape[0], X_train_counts.shape[1]))"
   ]
  },
  {
   "cell_type": "code",
   "execution_count": 20,
   "metadata": {},
   "outputs": [
    {
     "data": {
      "text/plain": [
       "<4767x27664 sparse matrix of type '<class 'numpy.int64'>'\n",
       "\twith 531488 stored elements in Compressed Sparse Row format>"
      ]
     },
     "execution_count": 20,
     "metadata": {},
     "output_type": "execute_result"
    }
   ],
   "source": [
    "X_train_counts"
   ]
  },
  {
   "cell_type": "code",
   "execution_count": 21,
   "metadata": {},
   "outputs": [],
   "source": [
    "doi = 0"
   ]
  },
  {
   "cell_type": "code",
   "execution_count": 22,
   "metadata": {},
   "outputs": [
    {
     "name": "stdout",
     "output_type": "stream",
     "text": [
      "\n",
      "These are the indices, words, and term frequencies in doc. 0:\n",
      "73      10            0.130\n",
      "74      100           0.065\n",
      "123     11            0.065\n",
      "145     12            0.065\n",
      "1988    anchorage     0.065\n",
      "2470    aside         0.065\n",
      "2731    away          0.065\n",
      "3112    bear          0.130\n",
      "3402    bigfoot       0.065\n",
      "3495    bit           0.065\n",
      "3828    bored         0.065\n",
      "3954    brakes        0.065\n",
      "4533    came          0.130\n",
      "6122    continued     0.065\n",
      "6422    covered       0.065\n",
      "6536    crazy         0.065\n",
      "6695    cruising      0.065\n",
      "6827    cut           0.065\n",
      "6939    darkness      0.065\n",
      "6996    days          0.065\n",
      "7006    dead          0.065\n",
      "7070    decided       0.065\n",
      "7120    deep          0.065\n",
      "7506    didn          0.065\n",
      "7611    direction     0.065\n",
      "7640    disappeared   0.065\n",
      "9450    far           0.065\n",
      "9573    feet          0.065\n",
      "9689    figured       0.065\n",
      "10053   followed      0.065\n",
      "10059   following     0.065\n",
      "10340   fresh         0.065\n",
      "10359   friends       0.194\n",
      "10461   fun           0.065\n",
      "10549   game          0.065\n",
      "10922   good          0.065\n",
      "11229   group         0.065\n",
      "11449   half          0.065\n",
      "11728   headlight     0.065\n",
      "12007   hill          0.065\n",
      "12315   hour          0.065\n",
      "12319   house         0.194\n",
      "12400   human         0.065\n",
      "12652   illegal       0.065\n",
      "12805   inches        0.065\n",
      "13606   jumped        0.065\n",
      "13624   just          0.065\n",
      "13729   kept          0.065\n",
      "14107   laughed       0.065\n",
      "14139   layed         0.065\n",
      "14159   leading       0.130\n",
      "14212   led           0.065\n",
      "14403   like          0.130\n",
      "14523   little        0.259\n",
      "14611   log           0.065\n",
      "14644   long          0.065\n",
      "14665   looked        0.065\n",
      "15453   met           0.065\n",
      "15557   mile          0.065\n",
      "15599   mind          0.065\n",
      "15890   moose         0.065\n",
      "15989   mound         0.130\n",
      "16349   near          0.065\n",
      "16379   need          0.065\n",
      "16536   night         0.065\n",
      "16648   north         0.065\n",
      "17133   opening       0.130\n",
      "17166   opposite      0.065\n",
      "18449   pm            0.065\n",
      "18480   pointed       0.065\n",
      "18615   positive      0.065\n",
      "18919   probably      0.130\n",
      "19235   pushed        0.065\n",
      "19295   quarter       0.065\n",
      "19327   quickly       0.065\n",
      "20399   ride          0.065\n",
      "20442   right         0.065\n",
      "20515   road          0.065\n",
      "20589   rode          0.259\n",
      "20776   run           0.065\n",
      "20786   running       0.130\n",
      "20890   said          0.065\n",
      "21048   saw           0.065\n",
      "21099   scared        0.130\n",
      "22234   slammed       0.065\n",
      "22378   small         0.065\n",
      "22508   snow          0.324\n",
      "22517   snowed        0.065\n",
      "22524   snowmachine   0.065\n",
      "22525   snowmachining  0.065\n",
      "22693   sort          0.065\n",
      "22944   spot          0.065\n",
      "23423   stopped       0.065\n",
      "23483   strange       0.065\n",
      "23867   sure          0.065\n",
      "23890   surprised     0.065\n",
      "24131   talked        0.065\n",
      "24136   talking       0.065\n",
      "24772   time          0.065\n",
      "24877   told          0.194\n",
      "24914   took          0.130\n",
      "25046   tracks        0.194\n",
      "25071   trail         0.065\n",
      "25083   trails        0.130\n",
      "25204   trees         0.065\n",
      "25423   turned        0.065\n",
      "26606   wasn          0.065\n",
      "26682   way           0.130\n",
      "27299   woods         0.130\n",
      "27509   yards         0.065\n",
      "\n",
      "The magnitude of the tf vector for this document is 1.000\n",
      "It used the L2 norm.\n"
     ]
    }
   ],
   "source": [
    "from sklearn.feature_extraction.text import TfidfTransformer\n",
    "# just do term frequency at first, use_idf = False\n",
    "tf_transformer = TfidfTransformer(use_idf=False)\n",
    "tf_transformer.fit(X_train_counts)\n",
    "X_train_tf = tf_transformer.transform(X_train_counts)\n",
    "words_doi_tf = X_train_tf[doi]\n",
    "print(\"\\nThese are the indices, words, and term frequencies in doc. {0}:\".\n",
    "       format(doi))\n",
    "tf_lst = []\n",
    "for i in range(words_doi_tf.count_nonzero()):\n",
    "    word_index = words_doi_tf.indices[i]\n",
    "    word = count_vect.get_feature_names()[word_index]\n",
    "    count = words_doi_tf.data[i]\n",
    "    tf_lst.append(count)\n",
    "    print(\"{0:<6d}  {1:<12s}  {2:0.3f}\".format(word_index, word, count))\n",
    "\n",
    "mag = np.sqrt(np.sum([tf**2 for tf in tf_lst]))\n",
    "print(\"\\nThe magnitude of the tf vector for this document is {0:0.3f}\".format(mag))\n",
    "print(\"It used the L2 norm.\")"
   ]
  },
  {
   "cell_type": "code",
   "execution_count": 23,
   "metadata": {},
   "outputs": [
    {
     "name": "stdout",
     "output_type": "stream",
     "text": [
      "Document of interest: 0\n",
      "There are 110 non-zero word counts in document 0.\n",
      "There are 142 words in document 0.\n"
     ]
    }
   ],
   "source": [
    "# back to the document of interest\n",
    "print(\"Document of interest: {0}\".format(doi))\n",
    "nnz_doi = X_train_counts[doi].getnnz(axis=1)\n",
    "nwords_doi = X_train_counts[doi].sum()\n",
    "print(\"There are {0} non-zero word counts in document {1}.\".format(nnz_doi[0], doi))\n",
    "print(\"There are {0} words in document {1}.\".format(nwords_doi, doi))"
   ]
  },
  {
   "cell_type": "code",
   "execution_count": 24,
   "metadata": {},
   "outputs": [
    {
     "name": "stdout",
     "output_type": "stream",
     "text": [
      "\n",
      "These are the indices, words, and tf-idf values in doc. 0:\n",
      "73      10            0.085\n",
      "74      100           0.057\n",
      "123     11            0.062\n",
      "145     12            0.059\n",
      "1988    anchorage     0.148\n",
      "2470    aside         0.105\n",
      "2731    away          0.034\n",
      "3112    bear          0.084\n",
      "3402    bigfoot       0.039\n",
      "3495    bit           0.061\n",
      "3828    bored         0.106\n",
      "3954    brakes        0.091\n",
      "4533    came          0.074\n",
      "6122    continued     0.057\n",
      "6422    covered       0.051\n",
      "6536    crazy         0.069\n",
      "6695    cruising      0.125\n",
      "6827    cut           0.070\n",
      "6939    darkness      0.082\n",
      "6996    days          0.061\n",
      "7006    dead          0.064\n",
      "7070    decided       0.046\n",
      "7120    deep          0.054\n",
      "7506    didn          0.039\n",
      "7611    direction     0.051\n",
      "7640    disappeared   0.069\n",
      "9450    far           0.052\n",
      "9573    feet          0.033\n",
      "9689    figured       0.072\n",
      "10053   followed      0.060\n",
      "10059   following     0.062\n",
      "10340   fresh         0.076\n",
      "10359   friends       0.162\n",
      "10461   fun           0.085\n",
      "10549   game          0.072\n",
      "10922   good          0.051\n",
      "11229   group         0.073\n",
      "11449   half          0.052\n",
      "11728   headlight     0.111\n",
      "12007   hill          0.051\n",
      "12315   hour          0.059\n",
      "12319   house         0.135\n",
      "12400   human         0.047\n",
      "12652   illegal       0.124\n",
      "12805   inches        0.058\n",
      "13606   jumped        0.064\n",
      "13624   just          0.029\n",
      "13729   kept          0.053\n",
      "14107   laughed       0.080\n",
      "14139   layed         0.111\n",
      "14159   leading       0.165\n",
      "14212   led           0.083\n",
      "14403   like          0.051\n",
      "14523   little        0.184\n",
      "14611   log           0.077\n",
      "14644   long          0.037\n",
      "14665   looked        0.032\n",
      "15453   met           0.080\n",
      "15557   mile          0.050\n",
      "15599   mind          0.061\n",
      "15890   moose         0.088\n",
      "15989   mound         0.223\n",
      "16349   near          0.044\n",
      "16379   need          0.078\n",
      "16536   night         0.036\n",
      "16648   north         0.052\n",
      "17133   opening       0.163\n",
      "17166   opposite      0.073\n",
      "18449   pm            0.063\n",
      "18480   pointed       0.074\n",
      "18615   positive      0.104\n",
      "18919   probably      0.108\n",
      "19235   pushed        0.084\n",
      "19295   quarter       0.081\n",
      "19327   quickly       0.055\n",
      "20399   ride          0.081\n",
      "20442   right         0.037\n",
      "20515   road          0.033\n",
      "20589   rode          0.356\n",
      "20776   run           0.051\n",
      "20786   running       0.091\n",
      "20890   said          0.038\n",
      "21048   saw           0.028\n",
      "21099   scared        0.091\n",
      "22234   slammed       0.093\n",
      "22378   small         0.045\n",
      "22508   snow          0.325\n",
      "22517   snowed        0.115\n",
      "22524   snowmachine   0.156\n",
      "22525   snowmachining  0.156\n",
      "22693   sort          0.067\n",
      "22944   spot          0.054\n",
      "23423   stopped       0.043\n",
      "23483   strange       0.055\n",
      "23867   sure          0.050\n",
      "23890   surprised     0.081\n",
      "24131   talked        0.070\n",
      "24136   talking       0.060\n",
      "24772   time          0.030\n",
      "24877   told          0.117\n",
      "24914   took          0.082\n",
      "25046   tracks        0.147\n",
      "25071   trail         0.051\n",
      "25083   trails        0.157\n",
      "25204   trees         0.043\n",
      "25423   turned        0.039\n",
      "26606   wasn          0.050\n",
      "26682   way           0.074\n",
      "27299   woods         0.071\n",
      "27509   yards         0.042\n"
     ]
    }
   ],
   "source": [
    "tfidf_transformer = TfidfTransformer(use_idf=True)\n",
    "tfidf_transformer.fit(X_train_counts)\n",
    "X_train_tfidf = tfidf_transformer.transform(X_train_counts)\n",
    "words_doi_tfidf = X_train_tfidf[doi] \n",
    "print(\"\\nThese are the indices, words, and tf-idf values in doc. {0}:\".\n",
    "      format(doi)) \n",
    "for i in range(words_doi_tfidf.count_nonzero()): \n",
    "    word_index = words_doi_tfidf.indices[i] \n",
    "    word = count_vect.get_feature_names()[word_index]\n",
    "    tfidf = words_doi_tfidf.data[i]\n",
    "    print(\"{0:<6d}  {1:<12s}  {2:0.3f}\".format(word_index, word, tfidf))"
   ]
  },
  {
   "cell_type": "markdown",
   "metadata": {},
   "source": [
    "## LDA"
   ]
  },
  {
   "cell_type": "code",
   "execution_count": 25,
   "metadata": {},
   "outputs": [],
   "source": [
    "from sklearn.feature_extraction.text import CountVectorizer\n",
    "from sklearn.decomposition import LatentDirichletAllocation"
   ]
  },
  {
   "cell_type": "code",
   "execution_count": 26,
   "metadata": {},
   "outputs": [],
   "source": [
    "conditions = html_df['time and conditions'].dropna()"
   ]
  },
  {
   "cell_type": "code",
   "execution_count": 27,
   "metadata": {},
   "outputs": [],
   "source": [
    "num_features = 1000\n",
    "\n",
    "# LDA can only uses raw term counts\n",
    "tf_vectorizer = CountVectorizer(max_df=0.95, min_df=2, max_features=num_features, stop_words='english')\n",
    "tf = tf_vectorizer.fit_transform(conditions)"
   ]
  },
  {
   "cell_type": "code",
   "execution_count": 28,
   "metadata": {},
   "outputs": [],
   "source": [
    "tf_feature_names = tf_vectorizer.get_feature_names() #theses are the words in our bag of words"
   ]
  },
  {
   "cell_type": "code",
   "execution_count": 29,
   "metadata": {},
   "outputs": [
    {
     "data": {
      "text/plain": [
       "LatentDirichletAllocation(batch_size=128, doc_topic_prior=None,\n",
       "             evaluate_every=-1, learning_decay=0.7,\n",
       "             learning_method='online', learning_offset=10.0,\n",
       "             max_doc_update_iter=100, max_iter=5, mean_change_tol=0.001,\n",
       "             n_components=3, n_jobs=-1, n_topics=None, perp_tol=0.1,\n",
       "             random_state=0, topic_word_prior=None,\n",
       "             total_samples=1000000.0, verbose=0)"
      ]
     },
     "execution_count": 29,
     "metadata": {},
     "output_type": "execute_result"
    }
   ],
   "source": [
    "num_topics = 3\n",
    "\n",
    "# Run LDA\n",
    "lda = LatentDirichletAllocation(n_components=num_topics, max_iter=5, learning_method='online',random_state=0, n_jobs=-1)\n",
    "lda.fit(tf)"
   ]
  },
  {
   "cell_type": "code",
   "execution_count": 30,
   "metadata": {},
   "outputs": [
    {
     "name": "stdout",
     "output_type": "stream",
     "text": [
      "Topic 0:\n",
      "00 clear pm 30 night 10 light sunny day bright\n",
      "Topic 1:\n",
      "morning clear afternoon early weather late day evening sunny sun\n",
      "Topic 2:\n",
      "night dark time clear moon hot cold weather day 11\n"
     ]
    }
   ],
   "source": [
    "def display_topics(model, feature_names, num_top_words):\n",
    "    for topic_idx, topic in enumerate(model.components_):\n",
    "        print(\"Topic %d:\" % (topic_idx))\n",
    "        print(\" \".join([feature_names[i]\n",
    "                        for i in topic.argsort()[:-num_top_words - 1:-1]]))\n",
    "\n",
    "num_top_words = 10\n",
    "display_topics(lda, tf_feature_names, num_top_words)"
   ]
  },
  {
   "cell_type": "code",
   "execution_count": 90,
   "metadata": {},
   "outputs": [],
   "source": [
    "environment = html_df['environment'].dropna()\n",
    "location = html_df['location details'].dropna()\n",
    "other = html_df['other stories'].dropna()\n",
    "also = html_df['also noticed'].dropna()\n",
    "observations = html_df['observed'].dropna()"
   ]
  },
  {
   "cell_type": "code",
   "execution_count": 47,
   "metadata": {},
   "outputs": [],
   "source": [
    "from sklearn.feature_extraction.text import CountVectorizer\n",
    "from sklearn.decomposition import LatentDirichletAllocation\n",
    "\n",
    "def LDA(data, n_topics, num_features, num_top_words):\n",
    "\n",
    "    # LDA can only uses raw term counts\n",
    "    tf_vectorizer = CountVectorizer(max_df=0.95, min_df=2, max_features=num_features, stop_words='english')\n",
    "    tf = tf_vectorizer.fit_transform(data)\n",
    "    \n",
    "    tf_feature_names = tf_vectorizer.get_feature_names() #theses are the words in our bag of words\n",
    "    \n",
    "    # Run LDA\n",
    "    lda = LatentDirichletAllocation(n_components=n_topics, max_iter=5, learning_method='online',random_state=0, n_jobs=-1)\n",
    "    lda.fit(tf)\n",
    "    \n",
    "    return display_topics(lda, tf_feature_names, num_top_words)"
   ]
  },
  {
   "cell_type": "code",
   "execution_count": 48,
   "metadata": {},
   "outputs": [
    {
     "name": "stdout",
     "output_type": "stream",
     "text": [
      "Topic 0:\n",
      "clear snow sunny cool warm day ground sky approx hot\n",
      "Topic 1:\n",
      "sun just cloudy weather dark clear little evening time conditions\n",
      "Topic 2:\n",
      "pm 00 30 11 10 dark night clear approximately time\n",
      "Topic 3:\n",
      "day morning afternoon early sunny late clear mid overcast bright\n",
      "Topic 4:\n",
      "night clear dark moon light weather cold dusk wind midnight\n"
     ]
    }
   ],
   "source": [
    "LDA(conditions, 5, 1000, 10)"
   ]
  },
  {
   "cell_type": "code",
   "execution_count": 34,
   "metadata": {},
   "outputs": [
    {
     "name": "stdout",
     "output_type": "stream",
     "text": [
      "Topic 0:\n",
      "forest pine area mountain fir growth feet dense swamp near\n",
      "Topic 1:\n",
      "trees river brush ridge heavy high west lots like east\n",
      "Topic 2:\n",
      "area wooded woods road creek lake small trees river near\n"
     ]
    }
   ],
   "source": [
    "LDA(environment, 3, 1000, 10)"
   ]
  },
  {
   "cell_type": "code",
   "execution_count": 35,
   "metadata": {},
   "outputs": [],
   "source": [
    "observations = html_df['observed'].dropna()"
   ]
  },
  {
   "cell_type": "code",
   "execution_count": 36,
   "metadata": {},
   "outputs": [
    {
     "name": "stdout",
     "output_type": "stream",
     "text": [
      "Topic 0:\n",
      "trail lake camp creek river water tent rock area decided feet got fishing just forest trees went time day started\n",
      "Topic 1:\n",
      "saw just like looked said got thing road time went woods told seen know house didn feet looking ran big\n",
      "Topic 2:\n",
      "heard like sound night woods time just hear went area loud noise sounded sounds got away started minutes did house\n",
      "Topic 3:\n",
      "road saw creature feet area large hair tall looked like animal head dark did car seen left bear long right\n",
      "Topic 4:\n",
      "tracks area heard like foot prints bigfoot sound track inches print time animal human large long did bear snow footprints\n"
     ]
    }
   ],
   "source": [
    "LDA(observations, 5, 1000, 20)"
   ]
  },
  {
   "cell_type": "markdown",
   "metadata": {},
   "source": [
    "## Clustering"
   ]
  },
  {
   "cell_type": "code",
   "execution_count": 100,
   "metadata": {},
   "outputs": [],
   "source": [
    "from sklearn.feature_extraction.text import CountVectorizer\n",
    "from sklearn.cluster import KMeans\n",
    "from sklearn.feature_extraction import text\n",
    "\n",
    "data = observations\n",
    "n_clusters = 3\n",
    "n_words = 5\n",
    "custom_stop_words = ['saw','heard','woods','just','did','time','like','road','said','small','area', 'hear', 'went', 'looked']\n",
    "stopwords = text.ENGLISH_STOP_WORDS.union(custom_stop_words)\n",
    "\n",
    "def cluster_model(data, n_clusters = 10, n_words = 10, stopwords = 'english'):\n",
    "    stopwords = text.ENGLISH_STOP_WORDS.union(custom_stop_words)\n",
    "    \n",
    "    count_vect = CountVectorizer(lowercase=True, tokenizer=None, stop_words=stopwords,\n",
    "                                 analyzer='word', max_df=1.0, min_df=1,\n",
    "                                 max_features=None)\n",
    "    count_vect.fit(data)\n",
    "    word_counts = count_vect.transform(data)\n",
    "\n",
    "    km = KMeans(n_clusters)\n",
    "    km.fit(word_counts)\n",
    "    centroids = np.array(km.cluster_centers_)\n",
    "\n",
    "    topwords_index = np.zeros((n_clusters,n_words))\n",
    "    for i in range(centroids.shape[0]):\n",
    "        topwords_index[i] += centroids[i].argsort()[::-1][:n_words]\n",
    "    topwords_index = topwords_index.astype(int)\n",
    "    topiclist = []\n",
    "    for i in range(topwords_index.shape[0]):\n",
    "        wordlist = []\n",
    "        for j in range(topwords_index.shape[1]):\n",
    "            wordlist.append(count_vect.get_feature_names()[topwords_index[i][j]])\n",
    "        words = ', '.join(wordlist)\n",
    "        topiclist.append(words)\n",
    "    return topiclist"
   ]
  },
  {
   "cell_type": "code",
   "execution_count": 96,
   "metadata": {},
   "outputs": [
    {
     "data": {
      "text/plain": [
       "['night, sound, feet, tree, away, creature, got, went, left, large',\n",
       " 'went, got, night, looked, feet, away, sound, didn, thought, right',\n",
       " 'feet, got, mountain, tracks, way, camp, big, came, looked, old',\n",
       " 'looked, feet, went, large, night, got, creature, tall, seen, away',\n",
       " 'lake, forest, feet, near, night, summer, tent, kootenay, left, sasquatch']"
      ]
     },
     "execution_count": 96,
     "metadata": {},
     "output_type": "execute_result"
    }
   ],
   "source": [
    "cluster_model(data = observations, n_clusters = 5, n_words = 10)"
   ]
  },
  {
   "cell_type": "code",
   "execution_count": 101,
   "metadata": {},
   "outputs": [
    {
     "data": {
      "text/plain": [
       "['lake, feet, tracks, left, forest, mr, thought, bear, mountain, night',\n",
       " 'got, night, feet, away, sound, thought, didn, right, know, started',\n",
       " 'feet, large, got, creature, night, tall, seen, away, sound, thought',\n",
       " 'night, sound, tree, feet, got, camp, away, didn, left, trail',\n",
       " 'old, good, man, feet, got, came, water, rifle, day, way']"
      ]
     },
     "execution_count": 101,
     "metadata": {},
     "output_type": "execute_result"
    }
   ],
   "source": [
    "cluster_model(data = observations, n_clusters = 5, n_words = 10, stopwords = custom_stop_words)"
   ]
  },
  {
   "cell_type": "code",
   "execution_count": 98,
   "metadata": {},
   "outputs": [
    {
     "data": {
      "text/plain": [
       "['ridge, campground, farm, south, land, forest, east, hill, creek, york',\n",
       " 'wooded, river, pine, lake, near, swamp, land, heavily, mountain, hills',\n",
       " 'trees, pine, river, lots, lake, forest, creek, brush, large, oak',\n",
       " 'forest, pine, lake, river, creek, near, dense, mountain, old, lots',\n",
       " 'creek, wooded, near, river, large, runs, mile, pine, old, heavily']"
      ]
     },
     "execution_count": 98,
     "metadata": {},
     "output_type": "execute_result"
    }
   ],
   "source": [
    "cluster_model(data = environment, n_clusters = 5, n_words = 10, stopwords = custom_stop_words)"
   ]
  },
  {
   "cell_type": "code",
   "execution_count": 92,
   "metadata": {},
   "outputs": [
    {
     "data": {
      "text/plain": [
       "['night, clear, moon, light, dark, 00, weather, 30, 10, late',\n",
       " 'clear, weather, morning, pm, sunny, 30, skies, warm, light, 00',\n",
       " 'day, sunny, clear, afternoon, bright, 00, pm, mid, early, summer',\n",
       " 'dark, clear, light, 30, weather, 00, pm, night, moon, evening',\n",
       " '30, 00, morning, pm, afternoon, early, light, sunny, 10, weather']"
      ]
     },
     "execution_count": 92,
     "metadata": {},
     "output_type": "execute_result"
    }
   ],
   "source": [
    "cluster_model(data = conditions, n_clusters = 5, n_words = 10, stopwords = custom_stop_words)"
   ]
  },
  {
   "cell_type": "code",
   "execution_count": 49,
   "metadata": {},
   "outputs": [
    {
     "data": {
      "text/plain": [
       "['near, river, county, lake, creek, park, location, south, miles, route',\n",
       " 'miles, north, south, east, west, highway, hwy, left, right, creek',\n",
       " 'miles, north, hwy, south, west, east, river, mile, rd, creek',\n",
       " 'location, lake, county, river, creek, park, rd, south, right, state',\n",
       " 'miles, east, turner, highway, 41, ochopee, north, collier, county, florida',\n",
       " 'right, left, turn, rd, miles, mile, follow, north, hwy, creek',\n",
       " 'highway, miles, north, south, west, east, mile, county, river, right',\n",
       " 'lake, miles, trail, north, east, west, right, highway, mile, turn',\n",
       " 'creek, bluff, service, campsite, forest, south, map, west, north, mile',\n",
       " 'turn, right, rte, miles, west, south, left, east, follow, ny']"
      ]
     },
     "execution_count": 49,
     "metadata": {},
     "output_type": "execute_result"
    }
   ],
   "source": [
    "cluster_model(data = location, n_clusters = 10, n_words = 10, stopwords = custom_stop_words)"
   ]
  },
  {
   "cell_type": "code",
   "execution_count": 91,
   "metadata": {},
   "outputs": [
    {
     "data": {
      "text/plain": [
       "['smell, sounds, night, day, deer, creature, tracks, unusual, seen, animal',\n",
       " 'yard, went, dogs, fence, thing, porch, point, night, thought, going',\n",
       " 'husband, left, trees, felt, got, way, people, heading, went, large',\n",
       " 'large, deer, ve, bigfoot, foot, remember, night, tree, creature, day',\n",
       " 'tree, went, feet, sound, night, large, looked, seen, house, animal']"
      ]
     },
     "execution_count": 91,
     "metadata": {},
     "output_type": "execute_result"
    }
   ],
   "source": [
    "cluster_model(data = also, n_clusters = 5, n_words = 10, stopwords = custom_stop_words)"
   ]
  },
  {
   "cell_type": "code",
   "execution_count": 85,
   "metadata": {},
   "outputs": [],
   "source": [
    "submittedyear = []\n",
    "for i in range(len(html_df.submitted)):\n",
    "    submittedyear.append(html_df.submitted[i][-5:][:4])\n",
    "#submittedyear"
   ]
  },
  {
   "cell_type": "code",
   "execution_count": 69,
   "metadata": {},
   "outputs": [
    {
     "data": {
      "text/plain": [
       "'2005'"
      ]
     },
     "execution_count": 69,
     "metadata": {},
     "output_type": "execute_result"
    }
   ],
   "source": [
    "html_df.submitted[0][-5:][:4]"
   ]
  },
  {
   "cell_type": "code",
   "execution_count": 80,
   "metadata": {},
   "outputs": [
    {
     "data": {
      "text/plain": [
       "'In 1986 me and a friend were walking on a trail and came up on three sets of tracks coming up a trail where a house was at one time and there was plum and peach trees that were missing fruit and a lot of the limbs were broken. '"
      ]
     },
     "execution_count": 80,
     "metadata": {},
     "output_type": "execute_result"
    }
   ],
   "source": [
    "html_df['other stories'][60]"
   ]
  },
  {
   "cell_type": "code",
   "execution_count": 82,
   "metadata": {},
   "outputs": [
    {
     "data": {
      "text/plain": [
       "3383"
      ]
     },
     "execution_count": 82,
     "metadata": {},
     "output_type": "execute_result"
    }
   ],
   "source": []
  },
  {
   "cell_type": "code",
   "execution_count": 84,
   "metadata": {},
   "outputs": [
    {
     "name": "stdout",
     "output_type": "stream",
     "text": [
      "<class 'pandas.core.frame.DataFrame'>\n",
      "RangeIndex: 4799 entries, 0 to 4798\n",
      "Data columns (total 16 columns):\n",
      "submitted              4799 non-null object\n",
      "title                  4799 non-null object\n",
      "year                   4799 non-null object\n",
      "season                 4799 non-null object\n",
      "month                  4181 non-null object\n",
      "state                  4540 non-null object\n",
      "county                 4540 non-null object\n",
      "location details       4047 non-null object\n",
      "nearest town           4440 non-null object\n",
      "nearest road           4086 non-null object\n",
      "observed               4767 non-null object\n",
      "also noticed           3185 non-null object\n",
      "other witnesses        4325 non-null object\n",
      "other stories          3383 non-null object\n",
      "time and conditions    4292 non-null object\n",
      "environment            4517 non-null object\n",
      "dtypes: object(16)\n",
      "memory usage: 600.0+ KB\n"
     ]
    }
   ],
   "source": [
    "html_df.info()"
   ]
  },
  {
   "cell_type": "code",
   "execution_count": 87,
   "metadata": {},
   "outputs": [
    {
     "data": {
      "text/plain": [
       "['years, bigfoot, seen, told, sighting, yes, people, sightings, friend, creature',\n",
       " 'yes, sightings, stories, know, people, read, reports, site, sighting, report',\n",
       " 'told, night, years, went, house, man, large, know, got, seen']"
      ]
     },
     "execution_count": 87,
     "metadata": {},
     "output_type": "execute_result"
    }
   ],
   "source": [
    "cluster_model(data = other, n_clusters = 3, n_words = 10, stopwords = custom_stop_words)"
   ]
  },
  {
   "cell_type": "code",
   "execution_count": 108,
   "metadata": {},
   "outputs": [],
   "source": [
    "states = html_df.state.unique()"
   ]
  },
  {
   "cell_type": "code",
   "execution_count": 119,
   "metadata": {},
   "outputs": [
    {
     "data": {
      "text/plain": [
       "array(['Alaska', 'Alabama', 'Arkansas', 'Arizona', 'California',\n",
       "       'Colorado', 'Connecticut', 'Delaware', 'Florida', 'Georgia',\n",
       "       'Iowa', 'Idaho', 'Illinois', 'Indiana', 'Kansas', 'Kentucky',\n",
       "       'Louisiana', 'Massachusetts', 'Maryland', 'Maine', 'Michigan',\n",
       "       'Minnesota', 'Missouri', 'Mississippi', 'Montana',\n",
       "       'North Carolina', 'North Dakota', 'Nebraska', 'New Hampshire',\n",
       "       'New Jersey', 'New Mexico', 'Nevada', 'New York', 'Ohio',\n",
       "       'Oklahoma', 'Oregon', 'Pennsylvania', 'Rhode Island',\n",
       "       'South Carolina', 'South Dakota', 'Tennessee', 'Texas', 'Utah',\n",
       "       'Virginia', 'Vermont', 'Washington', 'Wisconsin', 'West Virginia',\n",
       "       'Wyoming', nan], dtype=object)"
      ]
     },
     "execution_count": 119,
     "metadata": {},
     "output_type": "execute_result"
    }
   ],
   "source": [
    "states"
   ]
  },
  {
   "cell_type": "code",
   "execution_count": 126,
   "metadata": {},
   "outputs": [],
   "source": [
    "enviroments_by_state = []\n",
    "\n",
    "for state in states:\n",
    "    enviroments_by_state.append(html_df[html_df.state == state]['environment'].dropna())"
   ]
  },
  {
   "cell_type": "code",
   "execution_count": 136,
   "metadata": {},
   "outputs": [],
   "source": [
    "environment_words_by_state = dict()\n",
    "\n",
    "for st in range(len(states)):\n",
    "    try:\n",
    "        environment_words_by_state[states[st]] = cluster_model(data = enviroments_by_state[st], n_clusters = 1, n_words = 10, stopwords = custom_stop_words)\n",
    "    except:\n",
    "        continue"
   ]
  },
  {
   "cell_type": "code",
   "execution_count": 137,
   "metadata": {},
   "outputs": [
    {
     "data": {
      "text/plain": [
       "{'Alaska': ['birch, forest, trees, hill, pine, mountains, creek, miles, located, sighting'],\n",
       " 'Alabama': ['pine, creek, trees, wooded, river, forest, near, lake, swampy, large'],\n",
       " 'Arkansas': ['trees, creek, pine, wooded, lake, forest, river, miles, hills, near'],\n",
       " 'Arizona': ['forest, pine, trees, desert, ponderosa, scrub, feet, canyon, lots, oak'],\n",
       " 'California': ['forest, pine, trees, creek, lake, river, lots, near, mountain, oak'],\n",
       " 'Colorado': ['pine, forest, mountain, trees, aspen, feet, creek, near, rocky, elevation'],\n",
       " 'Connecticut': ['large, areas, hills, swampy, extremely, edge, early, land, hilly, heavily'],\n",
       " 'Delaware': ['land, forrest, forest, farm, flat, coastal, connects, country, creek, creeks'],\n",
       " 'Florida': ['pine, swamp, forest, wooded, trees, river, near, swampy, land, areas'],\n",
       " 'Georgia': ['pine, creek, forest, wooded, swamp, trees, mountain, creeks, near, river'],\n",
       " 'Iowa': ['river, wooded, forest, large, near, field, creek, week, south, land'],\n",
       " 'Idaho': ['pine, forest, lake, creek, steep, brush, miles, trees, river, near'],\n",
       " 'Illinois': ['wooded, creek, forest, fields, trees, river, lake, near, field, oak'],\n",
       " 'Indiana': ['forest, wooded, creek, lake, near, farm, hills, camp, hilly, river'],\n",
       " 'Kansas': ['river, trees, mile, near, creek, field, yards, bridge, kansas, wooded'],\n",
       " 'Kentucky': ['creek, trees, forest, wooded, large, hills, river, near, old, field'],\n",
       " 'Louisiana': ['pine, forest, trees, swamp, creeks, hardwood, lake, bayou, swampy, dense'],\n",
       " 'Massachusetts': ['areas, forest, wooded, pine, trees, lots, near, deer, came, maple'],\n",
       " 'Maryland': ['trees, river, forest, ground, stream, creek, wooded, island, feet, old'],\n",
       " 'Maine': ['trees, forest, logging, 95, wooded, populated, nearby, near, houses, various'],\n",
       " 'Michigan': ['forest, swamp, pine, trees, wooded, lake, creek, north, pines, river'],\n",
       " 'Minnesota': ['forest, lake, pine, near, trees, river, swamp, swamps, lakes, wooded'],\n",
       " 'Missouri': ['creek, wooded, river, forest, trees, farm, field, hills, open, missouri'],\n",
       " 'Mississippi': ['creek, swampy, wooded, forest, river, pine, rural, hills, stream, heavily'],\n",
       " 'Montana': ['pine, forest, trees, creek, mountain, wooded, river, rocky, open, mountains'],\n",
       " 'North Carolina': ['forest, pine, creek, wooded, mountain, river, mountains, near, terrain, hardwoods'],\n",
       " 'North Dakota': ['trees, trailer, wilderness, court, minot, hills, foliage, field, dip, depressions'],\n",
       " 'Nebraska': ['wooded, highway, ridge, pine, forest, campground, nebraska, south, trees, state'],\n",
       " 'New Hampshire': ['house, stream, wooded, mountain, forest, creek, runs, trees, ponds, mile'],\n",
       " 'New Jersey': ['forest, pine, wooded, trees, swamp, near, mile, lake, barrens, trail'],\n",
       " 'New Mexico': ['pine, forest, river, oak, mountains, trees, mountain, mountainous, land, highway'],\n",
       " 'Nevada': ['ravine, trees, streams, juniper, vegetation, context, late, feet, old, draw'],\n",
       " 'New York': ['forest, creek, pine, trees, lake, swamp, wooded, trail, hill, mountain'],\n",
       " 'Ohio': ['wooded, creek, forest, trees, house, river, field, lake, large, fields'],\n",
       " 'Oklahoma': ['creek, wooded, trees, river, pine, forest, heavily, lots, near, land'],\n",
       " 'Oregon': ['forest, trees, pine, river, fir, creek, mountain, lots, brush, lake'],\n",
       " 'Pennsylvania': ['wooded, forest, trees, creek, pine, mountain, old, heavily, open, near'],\n",
       " 'Rhode Island': ['maple, swamp, wetlands, great, pine, wildlife, dominated, guardrails, freshwater, forested'],\n",
       " 'South Carolina': ['river, forest, swamp, large, land, pine, pines, areas, swampy, near'],\n",
       " 'South Dakota': ['pine, trees, hills, rolling, forest, nearby, near, deep, limestone, mountain'],\n",
       " 'Tennessee': ['creek, river, forest, wooded, trees, near, lots, hills, fields, heavily'],\n",
       " 'Texas': ['wooded, river, creek, trees, pine, forest, lake, oak, land, lots'],\n",
       " 'Utah': ['trees, pine, aspen, forest, mountain, river, brush, canyon, south, near'],\n",
       " 'Virginia': ['forest, mountain, wooded, pine, trees, creek, open, old, mountains, national'],\n",
       " 'Vermont': ['pine, hill, ridge, pond, wooded, grounds, information, houses, house, hemlock'],\n",
       " 'Washington': ['forest, trees, pine, river, creek, fir, lake, old, growth, brush'],\n",
       " 'Wisconsin': ['forest, wooded, swamp, pine, river, near, trees, lake, large, open'],\n",
       " 'West Virginia': ['mountain, forest, creek, wooded, pine, river, large, ridge, trees, mountains'],\n",
       " 'Wyoming': ['river, trees, forest, pine, mountain, high, creek, timber, feet, open']}"
      ]
     },
     "execution_count": 137,
     "metadata": {},
     "output_type": "execute_result"
    }
   ],
   "source": [
    "environment_words_by_state"
   ]
  },
  {
   "cell_type": "code",
   "execution_count": 131,
   "metadata": {},
   "outputs": [],
   "source": [
    "environment_words_by_state['AK'] = cluster_model(data = enviroments_by_state[0], n_clusters = 1, n_words = 10, stopwords = custom_stop_words)"
   ]
  },
  {
   "cell_type": "code",
   "execution_count": 122,
   "metadata": {},
   "outputs": [
    {
     "data": {
      "text/plain": [
       "['pine, forest, trees, swamp, creeks, hardwood, lake, bayou, swampy, dense']"
      ]
     },
     "execution_count": 122,
     "metadata": {},
     "output_type": "execute_result"
    }
   ],
   "source": [
    "cluster_model(data = enviroments_by_state[16], n_clusters = 1, n_words = 10, stopwords = custom_stop_words)"
   ]
  },
  {
   "cell_type": "code",
   "execution_count": 120,
   "metadata": {},
   "outputs": [
    {
     "data": {
      "text/plain": [
       "'Louisiana'"
      ]
     },
     "execution_count": 120,
     "metadata": {},
     "output_type": "execute_result"
    }
   ],
   "source": [
    "states[16]"
   ]
  },
  {
   "cell_type": "code",
   "execution_count": null,
   "metadata": {},
   "outputs": [],
   "source": []
  }
 ],
 "metadata": {
  "kernelspec": {
   "display_name": "Python 3",
   "language": "python",
   "name": "python3"
  },
  "language_info": {
   "codemirror_mode": {
    "name": "ipython",
    "version": 3
   },
   "file_extension": ".py",
   "mimetype": "text/x-python",
   "name": "python",
   "nbconvert_exporter": "python",
   "pygments_lexer": "ipython3",
   "version": "3.7.3"
  }
 },
 "nbformat": 4,
 "nbformat_minor": 2
}
